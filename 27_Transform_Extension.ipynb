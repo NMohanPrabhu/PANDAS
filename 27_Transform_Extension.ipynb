{
 "cells": [
  {
   "cell_type": "markdown",
   "id": "ecd306fc-c5b8-453e-acf0-53f4378240db",
   "metadata": {},
   "source": [
    "The transform() function in Pandas is used to apply a function to each group and return a DataFrame that’s the same shape as the original."
   ]
  },
  {
   "cell_type": "code",
   "execution_count": 1,
   "id": "7eb562c3-5f65-4b5e-9b21-0b641338bca7",
   "metadata": {},
   "outputs": [
    {
     "name": "stdout",
     "output_type": "stream",
     "text": [
      "  Department  Salary  Salary_Diff\n",
      "0      Sales   50000      -5000.0\n",
      "1      Sales   60000       5000.0\n",
      "2         HR   45000      -1000.0\n",
      "3         HR   47000       1000.0\n",
      "4         IT   70000      -1000.0\n",
      "5         IT   72000       1000.0\n"
     ]
    }
   ],
   "source": [
    "# 1. Basic Example – Subtract Group Mean\n",
    "import pandas as pd\n",
    "\n",
    "data = {\n",
    "    'Department': ['Sales', 'Sales', 'HR', 'HR', 'IT', 'IT'],\n",
    "    'Salary': [50000, 60000, 45000, 47000, 70000, 72000]\n",
    "}\n",
    "df = pd.DataFrame(data)\n",
    "\n",
    "# Subtract group-wise mean from each salary\n",
    "df['Salary_Diff'] = df['Salary'] - df.groupby('Department')['Salary'].transform('mean')\n",
    "print(df)\n"
   ]
  },
  {
   "cell_type": "code",
   "execution_count": 2,
   "id": "5f44b69d-3098-465b-bc37-9dd993cdc3c0",
   "metadata": {},
   "outputs": [
    {
     "name": "stdout",
     "output_type": "stream",
     "text": [
      "  Department  Salary  Salary_Diff  Normalized_Salary\n",
      "0      Sales   50000      -5000.0          -0.707107\n",
      "1      Sales   60000       5000.0           0.707107\n",
      "2         HR   45000      -1000.0          -0.707107\n",
      "3         HR   47000       1000.0           0.707107\n",
      "4         IT   70000      -1000.0          -0.707107\n",
      "5         IT   72000       1000.0           0.707107\n"
     ]
    }
   ],
   "source": [
    "# Normalize salary within each department\n",
    "df['Normalized_Salary'] = df.groupby('Department')['Salary'].transform(\n",
    "    lambda x: (x - x.mean()) / x.std()\n",
    ")\n",
    "print(df)\n"
   ]
  },
  {
   "cell_type": "code",
   "execution_count": 3,
   "id": "593a16c2-5b31-4da3-a2d5-320a78281e59",
   "metadata": {},
   "outputs": [
    {
     "name": "stdout",
     "output_type": "stream",
     "text": [
      "  Team  Points  Assists  Points_scaled  Assists_scaled\n",
      "0    A      10        5            0.5        0.714286\n",
      "1    A      20        7            1.0        1.000000\n",
      "2    B      15        6            0.6        0.666667\n",
      "3    B      25        9            1.0        1.000000\n"
     ]
    }
   ],
   "source": [
    "df = pd.DataFrame({\n",
    "    'Team': ['A', 'A', 'B', 'B'],\n",
    "    'Points': [10, 20, 15, 25],\n",
    "    'Assists': [5, 7, 6, 9]\n",
    "})\n",
    "\n",
    "# Scale both columns by group max\n",
    "df[['Points_scaled', 'Assists_scaled']] = df.groupby('Team')[['Points', 'Assists']].transform(\n",
    "    lambda x: x / x.max()\n",
    ")\n",
    "print(df)\n"
   ]
  },
  {
   "cell_type": "markdown",
   "id": "8241cf06-619c-4495-bce7-2db2089c446b",
   "metadata": {},
   "source": [
    "| Feature               | `transform()`       | `agg()` / `apply()`        |\n",
    "| --------------------- | ------------------  | -----------------------    |\n",
    "| Returns same shape?   | ✅ Yes              | ❌ Usually reduces shape |\n",
    "| Good for broadcast?   | ✅ Yes              | ❌ No                    |\n",
    "| Works with groupby?   | ✅ Perfect use-case | ✅ Also works            |\n",
    "| Supports custom func? | ✅ Yes              | ✅ Yes                   |\n"
   ]
  },
  {
   "cell_type": "code",
   "execution_count": null,
   "id": "13c55105-8e8a-421f-87ac-de74f0fcc8e8",
   "metadata": {},
   "outputs": [],
   "source": []
  }
 ],
 "metadata": {
  "kernelspec": {
   "display_name": "Python 3 (ipykernel)",
   "language": "python",
   "name": "python3"
  },
  "language_info": {
   "codemirror_mode": {
    "name": "ipython",
    "version": 3
   },
   "file_extension": ".py",
   "mimetype": "text/x-python",
   "name": "python",
   "nbconvert_exporter": "python",
   "pygments_lexer": "ipython3",
   "version": "3.8.19"
  }
 },
 "nbformat": 4,
 "nbformat_minor": 5
}
