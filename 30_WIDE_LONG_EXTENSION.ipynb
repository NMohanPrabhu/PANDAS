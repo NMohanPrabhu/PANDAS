{
 "cells": [
  {
   "cell_type": "markdown",
   "id": "43d5bbb0-2151-4e51-bf8e-fb0248ca0d4f",
   "metadata": {},
   "source": [
    "In Pandas, converting a DataFrame from wide to long format is commonly done using the pd.melt() function."
   ]
  },
  {
   "cell_type": "markdown",
   "id": "d738f997-cb0e-4be8-9507-f926334d781d",
   "metadata": {},
   "source": [
    "🔄 What is Wide to Long?\n",
    "\n",
    "Wide Format (each variable in a separate column):"
   ]
  },
  {
   "cell_type": "markdown",
   "id": "ce1f2aae-590d-4576-adc7-a6ad50a72ec6",
   "metadata": {},
   "source": [
    "| ID | Year | Math\\_2020 | Math\\_2021 | Sci\\_2020 | Sci\\_2021 |\n",
    "| -- | ---- | ---------- | ---------- | --------- | --------- |\n",
    "| 1  | 10   | 78         | 88         | 84        | 89        |\n",
    "| 2  | 10   | 92         | 85         | 80        | 83        |\n"
   ]
  },
  {
   "cell_type": "markdown",
   "id": "d963854f-a227-46d5-966e-1c6a1cbe634d",
   "metadata": {},
   "source": [
    "Long Format (stacked variable & year into rows):"
   ]
  },
  {
   "cell_type": "markdown",
   "id": "53e30393-86f7-40af-9146-61f2ad6cd06d",
   "metadata": {},
   "source": [
    "| ID | Year | Subject | Year\\_Sub | Score |\n",
    "| -- | ---- | ------- | --------- | ----- |\n",
    "| 1  | 10   | Math    | 2020      | 78    |\n",
    "| 1  | 10   | Math    | 2021      | 88    |\n",
    "| 1  | 10   | Sci     | 2020      | 84    |\n",
    "| 1  | 10   | Sci     | 2021      | 89    |\n",
    "| 2  | 10   | Math    | 2020      | 92    |\n",
    "| 2  | 10   | Math    | 2021      | 85    |\n",
    "| 2  | 10   | Sci     | 2020      | 80    |\n",
    "| 2  | 10   | Sci     | 2021      | 83    |\n"
   ]
  },
  {
   "cell_type": "code",
   "execution_count": 2,
   "id": "30ce3065-bc4a-4ad6-9b52-8c7243357ffe",
   "metadata": {},
   "outputs": [
    {
     "name": "stdout",
     "output_type": "stream",
     "text": [
      "   ID  Year Subject Year_Sub  Score\n",
      "0   1    10    Math     2020     78\n",
      "1   2    10    Math     2020     92\n",
      "2   1    10    Math     2021     88\n",
      "3   2    10    Math     2021     85\n",
      "4   1    10     Sci     2020     84\n",
      "5   2    10     Sci     2020     80\n",
      "6   1    10     Sci     2021     89\n",
      "7   2    10     Sci     2021     83\n"
     ]
    }
   ],
   "source": [
    "import pandas as pd\n",
    "\n",
    "# Sample wide format\n",
    "df = pd.DataFrame({\n",
    "    'ID': [1, 2],\n",
    "    'Year': [10, 10],\n",
    "    'Math_2020': [78, 92],\n",
    "    'Math_2021': [88, 85],\n",
    "    'Sci_2020': [84, 80],\n",
    "    'Sci_2021': [89, 83]\n",
    "})\n",
    "\n",
    "# Melt to long format\n",
    "df_long = pd.melt(df, id_vars=['ID', 'Year'], \n",
    "                  var_name='Subject_Year', value_name='Score')\n",
    "\n",
    "# Split 'Subject_Year' into 'Subject' and 'Year_Sub'\n",
    "df_long[['Subject', 'Year_Sub']] = df_long['Subject_Year'].str.split('_', expand=True)\n",
    "\n",
    "# Final format\n",
    "df_long = df_long[['ID', 'Year', 'Subject', 'Year_Sub', 'Score']]\n",
    "\n",
    "print(df_long)\n"
   ]
  },
  {
   "cell_type": "markdown",
   "id": "fd65ae72-d599-4d7a-aa6d-4dd159d4eec3",
   "metadata": {},
   "source": [
    "📌 Notes\n",
    "\n",
    "    id_vars: Columns to keep fixed (identifier columns).\n",
    "\n",
    "    value_vars: Optional; if not set, all other columns are melted.\n",
    "\n",
    "    var_name: Name for the new variable column.\n",
    "\n",
    "    value_name: Name for the values column."
   ]
  },
  {
   "cell_type": "markdown",
   "id": "1779f4c9-eaad-4251-be7c-6af339ff0af9",
   "metadata": {},
   "source": [
    " pd.wide_to_long(), which is particularly helpful when you have column names with a stub name and suffixes (like math_2020, math_2021, etc.)."
   ]
  },
  {
   "cell_type": "code",
   "execution_count": 3,
   "id": "6c839f32-8915-49c4-831f-953d177e7e8c",
   "metadata": {},
   "outputs": [],
   "source": [
    "import pandas as pd\n",
    "\n",
    "df = pd.DataFrame({\n",
    "    'id': [1, 2],\n",
    "    'name': ['Alice', 'Bob'],\n",
    "    'math_2020': [88, 92],\n",
    "    'math_2021': [90, 95],\n",
    "    'science_2020': [84, 86],\n",
    "    'science_2021': [89, 88]\n",
    "})\n"
   ]
  },
  {
   "cell_type": "code",
   "execution_count": 4,
   "id": "351e6a78-1bb3-44c1-9e02-fffadd1bef1b",
   "metadata": {},
   "outputs": [
    {
     "data": {
      "text/html": [
       "<div>\n",
       "<style scoped>\n",
       "    .dataframe tbody tr th:only-of-type {\n",
       "        vertical-align: middle;\n",
       "    }\n",
       "\n",
       "    .dataframe tbody tr th {\n",
       "        vertical-align: top;\n",
       "    }\n",
       "\n",
       "    .dataframe thead th {\n",
       "        text-align: right;\n",
       "    }\n",
       "</style>\n",
       "<table border=\"1\" class=\"dataframe\">\n",
       "  <thead>\n",
       "    <tr style=\"text-align: right;\">\n",
       "      <th></th>\n",
       "      <th>id</th>\n",
       "      <th>name</th>\n",
       "      <th>math_2020</th>\n",
       "      <th>math_2021</th>\n",
       "      <th>science_2020</th>\n",
       "      <th>science_2021</th>\n",
       "    </tr>\n",
       "  </thead>\n",
       "  <tbody>\n",
       "    <tr>\n",
       "      <th>0</th>\n",
       "      <td>1</td>\n",
       "      <td>Alice</td>\n",
       "      <td>88</td>\n",
       "      <td>90</td>\n",
       "      <td>84</td>\n",
       "      <td>89</td>\n",
       "    </tr>\n",
       "    <tr>\n",
       "      <th>1</th>\n",
       "      <td>2</td>\n",
       "      <td>Bob</td>\n",
       "      <td>92</td>\n",
       "      <td>95</td>\n",
       "      <td>86</td>\n",
       "      <td>88</td>\n",
       "    </tr>\n",
       "  </tbody>\n",
       "</table>\n",
       "</div>"
      ],
      "text/plain": [
       "   id   name  math_2020  math_2021  science_2020  science_2021\n",
       "0   1  Alice         88         90            84            89\n",
       "1   2    Bob         92         95            86            88"
      ]
     },
     "execution_count": 4,
     "metadata": {},
     "output_type": "execute_result"
    }
   ],
   "source": [
    "df"
   ]
  },
  {
   "cell_type": "code",
   "execution_count": 5,
   "id": "ead3b322-7a9c-4a07-89b2-ddb5a58031c6",
   "metadata": {},
   "outputs": [
    {
     "name": "stdout",
     "output_type": "stream",
     "text": [
      "   id   name  year  math  science\n",
      "0   1  Alice  2020    88       84\n",
      "1   1  Alice  2021    90       89\n",
      "2   2    Bob  2020    92       86\n",
      "3   2    Bob  2021    95       88\n"
     ]
    }
   ],
   "source": [
    "df_long = pd.wide_to_long(df, \n",
    "                          stubnames=['math', 'science'], \n",
    "                          i=['id', 'name'], \n",
    "                          j='year', \n",
    "                          sep='_',\n",
    "                          suffix='\\\\d+').reset_index()\n",
    "\n",
    "print(df_long)\n"
   ]
  },
  {
   "cell_type": "markdown",
   "id": "dc047239-75a6-498d-b0e2-fd7529ea1106",
   "metadata": {},
   "source": [
    "Explanation:\n",
    "\n",
    "    stubnames: List of prefixes (e.g., math, science)\n",
    "\n",
    "    i: Identifier columns that stay constant\n",
    "\n",
    "    j: The suffix column (here, year)\n",
    "\n",
    "    sep: Separator between stub and suffix (_)\n",
    "\n",
    "    suffix: Regex pattern to match the suffix (\\d+ = digits like years)"
   ]
  },
  {
   "cell_type": "code",
   "execution_count": null,
   "id": "7c2ff72f-3f6b-4088-980e-5951adb6e5d5",
   "metadata": {},
   "outputs": [],
   "source": []
  }
 ],
 "metadata": {
  "kernelspec": {
   "display_name": "Python 3 (ipykernel)",
   "language": "python",
   "name": "python3"
  },
  "language_info": {
   "codemirror_mode": {
    "name": "ipython",
    "version": 3
   },
   "file_extension": ".py",
   "mimetype": "text/x-python",
   "name": "python",
   "nbconvert_exporter": "python",
   "pygments_lexer": "ipython3",
   "version": "3.8.19"
  }
 },
 "nbformat": 4,
 "nbformat_minor": 5
}
