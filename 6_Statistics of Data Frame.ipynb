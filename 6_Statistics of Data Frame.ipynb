{
 "cells": [
  {
   "cell_type": "markdown",
   "id": "b56048c8",
   "metadata": {},
   "source": [
    "<font color =\"Blue\" size =\"9\" >Statistics of Data frame</font>"
   ]
  },
  {
   "cell_type": "code",
   "execution_count": null,
   "id": "053cb83a",
   "metadata": {},
   "outputs": [],
   "source": [
    "import numpy as np\n",
    "import pandas as pd\n",
    "#Load The data Frame\n",
    "df=pd.read_csv(\"DATASETS\\\\scores.csv\") \n",
    "df"
   ]
  },
  {
   "cell_type": "code",
   "execution_count": null,
   "id": "f8c8ad9e",
   "metadata": {},
   "outputs": [],
   "source": [
    "#Statistics of a data frame\n",
    "df.describe()\n"
   ]
  },
  {
   "cell_type": "markdown",
   "id": "ee3ca891",
   "metadata": {},
   "source": [
    "<font color=\"red\" > <b>Install Pre-Requisite Package  ydata-profiling for detailed info about df </b></font>\n",
    "<font color=\"green\" ><p><b>pip install ydata-profiling</b> </p> </font>\n",
    "<p> or </p>\n",
    "<font color=\"green\" ><p><b>conda install -c conda-forge ydata-profiling</b> </p> </font>\n"
   ]
  },
  {
   "cell_type": "code",
   "execution_count": null,
   "id": "3a82bc40",
   "metadata": {},
   "outputs": [],
   "source": [
    "from ydata_profiling import ProfileReport"
   ]
  },
  {
   "cell_type": "code",
   "execution_count": null,
   "id": "f41dcb72",
   "metadata": {},
   "outputs": [],
   "source": [
    "profile = ProfileReport(df, title=\"Profiling Report\")"
   ]
  },
  {
   "cell_type": "code",
   "execution_count": null,
   "id": "f58d4cfc",
   "metadata": {},
   "outputs": [],
   "source": [
    "#The detailed info will be embedded in ABC.html file\n",
    "\n",
    "profile.to_file(output_file=\"DATASETS\\\\ABC.html\")\n"
   ]
  },
  {
   "cell_type": "markdown",
   "id": "e6e7c90b-5f94-473e-ae2a-fe74ca44947a",
   "metadata": {},
   "source": [
    "<Font color =\"Yellow\" Size =\"6\">OTHER PROFILING TOOLS</FONT>\n"
   ]
  },
  {
   "cell_type": "code",
   "execution_count": null,
   "id": "ef413629-acb3-4353-bf1f-92a2c0112379",
   "metadata": {},
   "outputs": [],
   "source": [
    "#pip install sweetviz"
   ]
  },
  {
   "cell_type": "code",
   "execution_count": null,
   "id": "b8d03830-ef7f-4d80-a851-fe546bdac470",
   "metadata": {},
   "outputs": [],
   "source": [
    "pip install dataprep "
   ]
  },
  {
   "cell_type": "code",
   "execution_count": null,
   "id": "5b2d0c4b-f615-4136-8bb6-4d55dd46cd38",
   "metadata": {},
   "outputs": [],
   "source": [
    "#sweetviz\n",
    "import sweetviz as sv\n",
    "report = sv.analyze(df)\n",
    "report.show_html(\"sweetviz_report.html\")"
   ]
  },
  {
   "cell_type": "code",
   "execution_count": null,
   "id": "795055b0-ee4b-4ebd-9efc-a9e576a44cb0",
   "metadata": {},
   "outputs": [],
   "source": []
  },
  {
   "cell_type": "code",
   "execution_count": null,
   "id": "20c3a6e1-f7aa-45f9-b2f4-ed40f6a26e84",
   "metadata": {},
   "outputs": [],
   "source": []
  },
  {
   "cell_type": "code",
   "execution_count": null,
   "id": "5561ae92-e5f2-41d0-bb4c-701c28e9586b",
   "metadata": {},
   "outputs": [],
   "source": []
  }
 ],
 "metadata": {
  "kernelspec": {
   "display_name": "Python 3 (ipykernel)",
   "language": "python",
   "name": "python3"
  },
  "language_info": {
   "codemirror_mode": {
    "name": "ipython",
    "version": 3
   },
   "file_extension": ".py",
   "mimetype": "text/x-python",
   "name": "python",
   "nbconvert_exporter": "python",
   "pygments_lexer": "ipython3",
   "version": "3.8.19"
  }
 },
 "nbformat": 4,
 "nbformat_minor": 5
}
