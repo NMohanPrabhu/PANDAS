{
 "cells": [
  {
   "cell_type": "markdown",
   "id": "c1a1feb5",
   "metadata": {},
   "source": [
    "<font color=\"blue\" size=\"6\">Method Chaining</font>"
   ]
  },
  {
   "cell_type": "markdown",
   "id": "c6a9ca95",
   "metadata": {},
   "source": [
    "<p>Method chaining is a programming style where you implement a pipeline function in a single call.</p>\n",
    "<font color=\"green\"><b>Advantages</font>\n",
    "<ol>\n",
    "<li>Improves code structure</li>\n",
    "<li>Eliminates intermediate variables</li>\n",
    "<li>Can improve code readability</li>\n",
    "<li>Improves performance</li>\n",
    "<li>Minimises errors</li>\n",
    "    </ol>\n",
    "<font color=\"green\"><b>Disadvantages</font>\n",
    "<ol>\n",
    "<li>\n",
    "    Harder to debug</li></ol>\n"
   ]
  },
  {
   "cell_type": "code",
   "execution_count": 1,
   "id": "59b52932",
   "metadata": {},
   "outputs": [],
   "source": [
    "import pandas as pd\n",
    "import numpy as np\n"
   ]
  },
  {
   "cell_type": "code",
   "execution_count": 2,
   "id": "866dd156",
   "metadata": {},
   "outputs": [],
   "source": [
    "df=pd.read_csv(\"DATASETS\\\\ecommerce_sales_by_date.csv\")"
   ]
  },
  {
   "cell_type": "code",
   "execution_count": 3,
   "id": "de38292b",
   "metadata": {},
   "outputs": [],
   "source": [
    "df = df.fillna('')"
   ]
  },
  {
   "cell_type": "code",
   "execution_count": 4,
   "id": "c9588766",
   "metadata": {},
   "outputs": [],
   "source": [
    "df = df.sort_values(by='date', ascending=False)"
   ]
  },
  {
   "cell_type": "code",
   "execution_count": 5,
   "id": "a93056ad",
   "metadata": {},
   "outputs": [],
   "source": [
    "df['conversion_rate'] = ((df['transactions'] / df['sessions']) * 100).round(2)"
   ]
  },
  {
   "cell_type": "code",
   "execution_count": 6,
   "id": "e55f6493",
   "metadata": {},
   "outputs": [],
   "source": [
    "df['revenuePerTransaction'] = (df['transactionRevenue'] / df['transactions']).round(2)"
   ]
  },
  {
   "cell_type": "code",
   "execution_count": 7,
   "id": "fd34655d",
   "metadata": {},
   "outputs": [],
   "source": [
    "df['transactionsPerSession'] = (df['transactions'] / df['sessions']).round(2)"
   ]
  },
  {
   "cell_type": "code",
   "execution_count": 8,
   "id": "adbfdc63",
   "metadata": {},
   "outputs": [],
   "source": [
    "df['date'] = pd.to_datetime(df['date'])"
   ]
  },
  {
   "cell_type": "code",
   "execution_count": 9,
   "id": "272f3625",
   "metadata": {},
   "outputs": [],
   "source": [
    "df = df.rename(columns={'date': 'Date', \n",
    "                        'sessions': 'Sessions', \n",
    "                        'transactions': 'Transactions', \n",
    "                        'transactionRevenue': 'Revenue', \n",
    "                        'transactionsPerSession': 'Transactions Per Session', \n",
    "                        'revenuePerTransaction': 'AOV',\n",
    "                        'conversion_rate': 'CR'}) \n"
   ]
  },
  {
   "cell_type": "code",
   "execution_count": 10,
   "id": "d8a85754",
   "metadata": {},
   "outputs": [
    {
     "data": {
      "text/html": [
       "<div>\n",
       "<style scoped>\n",
       "    .dataframe tbody tr th:only-of-type {\n",
       "        vertical-align: middle;\n",
       "    }\n",
       "\n",
       "    .dataframe tbody tr th {\n",
       "        vertical-align: top;\n",
       "    }\n",
       "\n",
       "    .dataframe thead th {\n",
       "        text-align: right;\n",
       "    }\n",
       "</style>\n",
       "<table border=\"1\" class=\"dataframe\">\n",
       "  <thead>\n",
       "    <tr style=\"text-align: right;\">\n",
       "      <th></th>\n",
       "      <th>Date</th>\n",
       "      <th>Sessions</th>\n",
       "      <th>Transactions</th>\n",
       "      <th>Revenue</th>\n",
       "      <th>AOV</th>\n",
       "      <th>CR</th>\n",
       "    </tr>\n",
       "  </thead>\n",
       "  <tbody>\n",
       "    <tr>\n",
       "      <th>364</th>\n",
       "      <td>2021-12-31</td>\n",
       "      <td>4071</td>\n",
       "      <td>105</td>\n",
       "      <td>8241.39</td>\n",
       "      <td>78.49</td>\n",
       "      <td>2.58</td>\n",
       "    </tr>\n",
       "    <tr>\n",
       "      <th>363</th>\n",
       "      <td>2021-12-30</td>\n",
       "      <td>4924</td>\n",
       "      <td>117</td>\n",
       "      <td>5155.67</td>\n",
       "      <td>44.07</td>\n",
       "      <td>2.38</td>\n",
       "    </tr>\n",
       "    <tr>\n",
       "      <th>362</th>\n",
       "      <td>2021-12-29</td>\n",
       "      <td>4890</td>\n",
       "      <td>108</td>\n",
       "      <td>7868.78</td>\n",
       "      <td>72.86</td>\n",
       "      <td>2.21</td>\n",
       "    </tr>\n",
       "    <tr>\n",
       "      <th>361</th>\n",
       "      <td>2021-12-28</td>\n",
       "      <td>5045</td>\n",
       "      <td>112</td>\n",
       "      <td>6729.58</td>\n",
       "      <td>60.09</td>\n",
       "      <td>2.22</td>\n",
       "    </tr>\n",
       "    <tr>\n",
       "      <th>360</th>\n",
       "      <td>2021-12-27</td>\n",
       "      <td>4412</td>\n",
       "      <td>105</td>\n",
       "      <td>6929.72</td>\n",
       "      <td>66.00</td>\n",
       "      <td>2.38</td>\n",
       "    </tr>\n",
       "  </tbody>\n",
       "</table>\n",
       "</div>"
      ],
      "text/plain": [
       "          Date  Sessions  Transactions  Revenue    AOV    CR\n",
       "364 2021-12-31      4071           105  8241.39  78.49  2.58\n",
       "363 2021-12-30      4924           117  5155.67  44.07  2.38\n",
       "362 2021-12-29      4890           108  7868.78  72.86  2.21\n",
       "361 2021-12-28      5045           112  6729.58  60.09  2.22\n",
       "360 2021-12-27      4412           105  6929.72  66.00  2.38"
      ]
     },
     "execution_count": 10,
     "metadata": {},
     "output_type": "execute_result"
    }
   ],
   "source": [
    "df = df.drop(columns=['Unnamed: 0', 'Transactions Per Session'])\n",
    "df.head()\n"
   ]
  },
  {
   "cell_type": "markdown",
   "id": "a0bbbd37",
   "metadata": {},
   "source": [
    "<font color =\"green\"><b>Method Chaining Code</b></font>"
   ]
  },
  {
   "cell_type": "code",
   "execution_count": 12,
   "id": "729bbc8a",
   "metadata": {},
   "outputs": [
    {
     "data": {
      "text/html": [
       "<div>\n",
       "<style scoped>\n",
       "    .dataframe tbody tr th:only-of-type {\n",
       "        vertical-align: middle;\n",
       "    }\n",
       "\n",
       "    .dataframe tbody tr th {\n",
       "        vertical-align: top;\n",
       "    }\n",
       "\n",
       "    .dataframe thead th {\n",
       "        text-align: right;\n",
       "    }\n",
       "</style>\n",
       "<table border=\"1\" class=\"dataframe\">\n",
       "  <thead>\n",
       "    <tr style=\"text-align: right;\">\n",
       "      <th></th>\n",
       "      <th>Date</th>\n",
       "      <th>Sessions</th>\n",
       "      <th>Transactions</th>\n",
       "      <th>Revenue</th>\n",
       "      <th>AOV</th>\n",
       "      <th>CR</th>\n",
       "    </tr>\n",
       "  </thead>\n",
       "  <tbody>\n",
       "    <tr>\n",
       "      <th>364</th>\n",
       "      <td>2021-12-31</td>\n",
       "      <td>4071</td>\n",
       "      <td>105</td>\n",
       "      <td>8241.39</td>\n",
       "      <td>78.49</td>\n",
       "      <td>2.58</td>\n",
       "    </tr>\n",
       "    <tr>\n",
       "      <th>363</th>\n",
       "      <td>2021-12-30</td>\n",
       "      <td>4924</td>\n",
       "      <td>117</td>\n",
       "      <td>5155.67</td>\n",
       "      <td>44.07</td>\n",
       "      <td>2.38</td>\n",
       "    </tr>\n",
       "    <tr>\n",
       "      <th>362</th>\n",
       "      <td>2021-12-29</td>\n",
       "      <td>4890</td>\n",
       "      <td>108</td>\n",
       "      <td>7868.78</td>\n",
       "      <td>72.86</td>\n",
       "      <td>2.21</td>\n",
       "    </tr>\n",
       "    <tr>\n",
       "      <th>361</th>\n",
       "      <td>2021-12-28</td>\n",
       "      <td>5045</td>\n",
       "      <td>112</td>\n",
       "      <td>6729.58</td>\n",
       "      <td>60.09</td>\n",
       "      <td>2.22</td>\n",
       "    </tr>\n",
       "    <tr>\n",
       "      <th>360</th>\n",
       "      <td>2021-12-27</td>\n",
       "      <td>4412</td>\n",
       "      <td>105</td>\n",
       "      <td>6929.72</td>\n",
       "      <td>66.00</td>\n",
       "      <td>2.38</td>\n",
       "    </tr>\n",
       "  </tbody>\n",
       "</table>\n",
       "</div>"
      ],
      "text/plain": [
       "          Date  Sessions  Transactions  Revenue    AOV    CR\n",
       "364 2021-12-31      4071           105  8241.39  78.49  2.58\n",
       "363 2021-12-30      4924           117  5155.67  44.07  2.38\n",
       "362 2021-12-29      4890           108  7868.78  72.86  2.21\n",
       "361 2021-12-28      5045           112  6729.58  60.09  2.22\n",
       "360 2021-12-27      4412           105  6929.72  66.00  2.38"
      ]
     },
     "execution_count": 12,
     "metadata": {},
     "output_type": "execute_result"
    }
   ],
   "source": [
    "df_chain = (\n",
    "    pd.read_csv('DATASETS\\\\ecommerce_sales_by_date.csv')\n",
    "    .fillna('')\n",
    "    .sort_values(by='date', ascending=False)\n",
    "    .assign(\n",
    "conversion_rate=(lambda x: ((x['transactions'] / x['sessions']) * 100).round(2)),\n",
    "revenuePerTransaction=(lambda x: x['revenuePerTransaction'].round(2)),\n",
    "transactionsPerSession=(lambda x: x['transactionsPerSession'].round(2))\n",
    "    )\n",
    "    .rename(columns={'date': 'Date', \n",
    "                    'sessions': 'Sessions', \n",
    "                    'transactions': 'Transactions', \n",
    "                    'transactionRevenue': 'Revenue', \n",
    "                    'transactionsPerSession': 'Transactions Per Session', \n",
    "                    'revenuePerTransaction': 'AOV',\n",
    "                    'conversion_rate': 'CR'})        \n",
    "    .drop(columns=['Unnamed: 0', 'Transactions Per Session'])\n",
    "    .astype({'Date': 'datetime64[ns]'})  \n",
    ")\n",
    "\n",
    "df_chain.head()\n"
   ]
  },
  {
   "cell_type": "code",
   "execution_count": null,
   "id": "0f0381e9",
   "metadata": {},
   "outputs": [],
   "source": []
  },
  {
   "cell_type": "code",
   "execution_count": null,
   "id": "556ec6e3",
   "metadata": {},
   "outputs": [],
   "source": []
  }
 ],
 "metadata": {
  "kernelspec": {
   "display_name": "Python 3 (ipykernel)",
   "language": "python",
   "name": "python3"
  },
  "language_info": {
   "codemirror_mode": {
    "name": "ipython",
    "version": 3
   },
   "file_extension": ".py",
   "mimetype": "text/x-python",
   "name": "python",
   "nbconvert_exporter": "python",
   "pygments_lexer": "ipython3",
   "version": "3.8.19"
  }
 },
 "nbformat": 4,
 "nbformat_minor": 5
}
