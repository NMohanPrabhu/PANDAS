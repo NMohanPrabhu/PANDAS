{
 "cells": [
  {
   "cell_type": "markdown",
   "id": "b4bf9504-c412-4d29-85be-a200dc7fada0",
   "metadata": {},
   "source": [
    "The join() function in Pandas is used to combine two DataFrames based on their index (or optionally, a column). It’s simpler than merge() when you're joining by index."
   ]
  },
  {
   "cell_type": "markdown",
   "id": "a9911898-5a05-44ab-8f4b-4e3d995c68dd",
   "metadata": {},
   "source": [
    "✅ Syntax\n",
    "\n",
    "DataFrame.join(other, on=None, how='left', lsuffix='', rsuffix='', sort=False)\n",
    "\n",
    "    other: The DataFrame to join.\n",
    "\n",
    "    on: Optional column to join on (for one DataFrame).\n",
    "\n",
    "    how: 'left' (default), 'right', 'inner', 'outer'\n",
    "\n",
    "    lsuffix, rsuffix: Add suffixes for overlapping column names."
   ]
  },
  {
   "cell_type": "code",
   "execution_count": 1,
   "id": "c963c143-e5fa-46cc-a0cc-848a741f7f64",
   "metadata": {},
   "outputs": [
    {
     "name": "stdout",
     "output_type": "stream",
     "text": [
      "      Name Department\n",
      "1    Alice         HR\n",
      "2      Bob         IT\n",
      "3  Charlie        NaN\n"
     ]
    }
   ],
   "source": [
    "# 1. Join on Index (Default Behavior)\n",
    "import pandas as pd\n",
    "\n",
    "df1 = pd.DataFrame({\n",
    "    'Name': ['Alice', 'Bob', 'Charlie']\n",
    "}, index=[1, 2, 3])\n",
    "\n",
    "df2 = pd.DataFrame({\n",
    "    'Department': ['HR', 'IT', 'Sales']\n",
    "}, index=[1, 2, 4])\n",
    "\n",
    "result = df1.join(df2)\n",
    "print(result)\n"
   ]
  },
  {
   "cell_type": "code",
   "execution_count": 2,
   "id": "b4fc42e1-a1cf-4dea-a071-40024c8b0000",
   "metadata": {},
   "outputs": [
    {
     "name": "stdout",
     "output_type": "stream",
     "text": [
      "    Name Department\n",
      "1  Alice         HR\n",
      "2    Bob         IT\n"
     ]
    }
   ],
   "source": [
    "#2. Join with how='inner'\n",
    "result = df1.join(df2, how='inner')\n",
    "print(result)"
   ]
  },
  {
   "cell_type": "code",
   "execution_count": 3,
   "id": "023f27f3-456e-46b3-a22c-543f1c3b6625",
   "metadata": {},
   "outputs": [
    {
     "name": "stdout",
     "output_type": "stream",
     "text": [
      "   EmpID     Name Department\n",
      "0      1    Alice         HR\n",
      "1      2      Bob         IT\n",
      "2      3  Charlie        NaN\n"
     ]
    }
   ],
   "source": [
    "#3. Join on a Column (not index)\n",
    "df1 = pd.DataFrame({\n",
    "    'EmpID': [1, 2, 3],\n",
    "    'Name': ['Alice', 'Bob', 'Charlie']\n",
    "})\n",
    "\n",
    "df2 = pd.DataFrame({\n",
    "    'EmpID': [1, 2, 4],\n",
    "    'Department': ['HR', 'IT', 'Finance']\n",
    "})\n",
    "\n",
    "# Set EmpID as index for df2\n",
    "df2.set_index('EmpID', inplace=True)\n",
    "\n",
    "# Join on EmpID column\n",
    "result = df1.join(df2, on='EmpID')\n",
    "print(result)\n"
   ]
  },
  {
   "cell_type": "markdown",
   "id": "acc63e49-8a3c-4661-9863-c1f6a3f5fee2",
   "metadata": {},
   "source": [
    "join() vs merge()\n",
    "\n",
    " \n",
    "| Feature          | `join()`           | `merge()`                       |\n",
    "| ---------------- | ---------------    | ------------------------------- |\n",
    "| Default join key | Index              | Common column or specified keys |\n",
    "| Simpler syntax   | ✅ Yes            | ❌ More verbose                  |\n",
    "| Multi-key join   | ❌ Not supported  | ✅ Supported                     |\n",
    "| SQL-style joins  | ❌ Limited        | ✅ Full JOIN support             |\n"
   ]
  },
  {
   "cell_type": "code",
   "execution_count": null,
   "id": "7a4be6b4-524e-4590-b1e4-9cec2f5c535b",
   "metadata": {},
   "outputs": [],
   "source": []
  }
 ],
 "metadata": {
  "kernelspec": {
   "display_name": "Python 3 (ipykernel)",
   "language": "python",
   "name": "python3"
  },
  "language_info": {
   "codemirror_mode": {
    "name": "ipython",
    "version": 3
   },
   "file_extension": ".py",
   "mimetype": "text/x-python",
   "name": "python",
   "nbconvert_exporter": "python",
   "pygments_lexer": "ipython3",
   "version": "3.8.19"
  }
 },
 "nbformat": 4,
 "nbformat_minor": 5
}
