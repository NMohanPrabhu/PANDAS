{
 "cells": [
  {
   "cell_type": "markdown",
   "id": "2a5add55-e229-4936-a387-98faadc9bebb",
   "metadata": {},
   "source": [
    "<font color=\"Blue\" size=\"6\">Selecting an item</font>"
   ]
  },
  {
   "cell_type": "code",
   "execution_count": 1,
   "id": "5f439582-e96b-42fa-bd2b-3a7f5c1ecf11",
   "metadata": {},
   "outputs": [
    {
     "data": {
      "text/plain": [
       "'Braund, Mr. Owen Harris'"
      ]
     },
     "execution_count": 1,
     "metadata": {},
     "output_type": "execute_result"
    }
   ],
   "source": [
    "import pandas as pd\n",
    "import numpy as np\n",
    "df=pd.read_csv('DATASETS/titanic.csv')\n",
    "df.loc[df.index[0],'Name']\n"
   ]
  },
  {
   "cell_type": "code",
   "execution_count": 2,
   "id": "1d828472-ac6c-4d5a-b174-c81bdf377d3e",
   "metadata": {},
   "outputs": [
    {
     "data": {
      "text/plain": [
       "'Braund, Mr. Owen Harris'"
      ]
     },
     "execution_count": 2,
     "metadata": {},
     "output_type": "execute_result"
    }
   ],
   "source": [
    "df.loc[0,'Name']"
   ]
  },
  {
   "cell_type": "code",
   "execution_count": 3,
   "id": "a57b10a1-9c64-4b9d-b785-d6503b2312c5",
   "metadata": {},
   "outputs": [
    {
     "data": {
      "text/plain": [
       "'Braund, Mr. Owen Harris'"
      ]
     },
     "execution_count": 3,
     "metadata": {},
     "output_type": "execute_result"
    }
   ],
   "source": [
    "df.iloc[0,df.columns.get_loc('Name')]"
   ]
  },
  {
   "cell_type": "code",
   "execution_count": null,
   "id": "400b1600-99a9-44ff-aa25-5d6446a12d28",
   "metadata": {},
   "outputs": [],
   "source": []
  }
 ],
 "metadata": {
  "kernelspec": {
   "display_name": "Python 3 (ipykernel)",
   "language": "python",
   "name": "python3"
  },
  "language_info": {
   "codemirror_mode": {
    "name": "ipython",
    "version": 3
   },
   "file_extension": ".py",
   "mimetype": "text/x-python",
   "name": "python",
   "nbconvert_exporter": "python",
   "pygments_lexer": "ipython3",
   "version": "3.8.19"
  }
 },
 "nbformat": 4,
 "nbformat_minor": 5
}
