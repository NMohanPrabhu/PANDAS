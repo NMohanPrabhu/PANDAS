{
 "cells": [
  {
   "cell_type": "markdown",
   "id": "b1632125-c8a2-4d7c-825e-03b9ef228abb",
   "metadata": {},
   "source": [
    "<font color=\"blue\" size=\"6\">Ways to optimize  memory in Pandas</font>"
   ]
  },
  {
   "cell_type": "markdown",
   "id": "5fafe7e0-a7cd-406f-9914-a79a2e8c94b8",
   "metadata": {},
   "source": [
    "<font color=\"yellow\" size=\"4\" >Changing numeric columns to smaller dtype </font>"
   ]
  },
  {
   "cell_type": "code",
   "execution_count": 1,
   "id": "d370db8a-b95e-4e70-b268-f70b6fc46149",
   "metadata": {},
   "outputs": [
    {
     "name": "stdout",
     "output_type": "stream",
     "text": [
      "<class 'pandas.core.frame.DataFrame'>\n",
      "RangeIndex: 30 entries, 0 to 29\n",
      "Data columns (total 24 columns):\n",
      " #   Column    Non-Null Count  Dtype  \n",
      "---  ------    --------------  -----  \n",
      " 0   RollNo    30 non-null     int64  \n",
      " 1   Name      30 non-null     object \n",
      " 2   Dept      30 non-null     object \n",
      " 3   Sec       30 non-null     object \n",
      " 4   Gender    30 non-null     object \n",
      " 5   Type      30 non-null     object \n",
      " 6   Category  30 non-null     object \n",
      " 7   Sub_1     0 non-null      float64\n",
      " 8   S1_Staff  0 non-null      float64\n",
      " 9   Sub_2     0 non-null      float64\n",
      " 10  S2_Staff  0 non-null      float64\n",
      " 11  Sub_3     0 non-null      float64\n",
      " 12  S3_Staff  0 non-null      float64\n",
      " 13  Sub_4     0 non-null      float64\n",
      " 14  S4_Staff  0 non-null      float64\n",
      " 15  Sub_5     0 non-null      float64\n",
      " 16  S5_Staff  0 non-null      float64\n",
      " 17  Sub_6     0 non-null      float64\n",
      " 18  S6_Staff  0 non-null      float64\n",
      " 19  Lab_1     0 non-null      float64\n",
      " 20  L1_Staff  0 non-null      float64\n",
      " 21  Lab_2     0 non-null      float64\n",
      " 22  L2_Staff  0 non-null      float64\n",
      " 23  Result    0 non-null      float64\n",
      "dtypes: float64(17), int64(1), object(6)\n",
      "memory usage: 5.8+ KB\n",
      "<class 'pandas.core.frame.DataFrame'>\n",
      "RangeIndex: 30 entries, 0 to 29\n",
      "Data columns (total 24 columns):\n",
      " #   Column    Non-Null Count  Dtype  \n",
      "---  ------    --------------  -----  \n",
      " 0   RollNo    30 non-null     int64  \n",
      " 1   Name      30 non-null     object \n",
      " 2   Dept      30 non-null     object \n",
      " 3   Sec       30 non-null     object \n",
      " 4   Gender    30 non-null     object \n",
      " 5   Type      30 non-null     object \n",
      " 6   Category  30 non-null     object \n",
      " 7   Sub_1     0 non-null      float64\n",
      " 8   S1_Staff  0 non-null      float64\n",
      " 9   Sub_2     0 non-null      float64\n",
      " 10  S2_Staff  0 non-null      float64\n",
      " 11  Sub_3     0 non-null      float64\n",
      " 12  S3_Staff  0 non-null      float64\n",
      " 13  Sub_4     0 non-null      float64\n",
      " 14  S4_Staff  0 non-null      float64\n",
      " 15  Sub_5     0 non-null      float64\n",
      " 16  S5_Staff  0 non-null      float64\n",
      " 17  Sub_6     0 non-null      float64\n",
      " 18  S6_Staff  0 non-null      float64\n",
      " 19  Lab_1     0 non-null      float64\n",
      " 20  L1_Staff  0 non-null      float64\n",
      " 21  Lab_2     0 non-null      float64\n",
      " 22  L2_Staff  0 non-null      float64\n",
      " 23  Result    0 non-null      float64\n",
      "dtypes: float64(17), int64(1), object(6)\n",
      "memory usage: 5.8+ KB\n"
     ]
    }
   ],
   "source": [
    "import pandas as pd\n",
    "import numpy as np\n",
    "df=pd.read_csv('DATASETS\\\\LARGE_DATA.csv')\n",
    "df.info()\n",
    "df.info()\n"
   ]
  },
  {
   "cell_type": "code",
   "execution_count": 2,
   "id": "542addae-6741-4c4f-9e0a-10a119e5cf43",
   "metadata": {},
   "outputs": [],
   "source": [
    "df['Avg'] = df['Result'].astype('float16')"
   ]
  },
  {
   "cell_type": "code",
   "execution_count": 3,
   "id": "ee97f26a-caa7-41e7-bb7b-7ed9d8e61140",
   "metadata": {},
   "outputs": [
    {
     "name": "stdout",
     "output_type": "stream",
     "text": [
      "<class 'pandas.core.frame.DataFrame'>\n",
      "RangeIndex: 30 entries, 0 to 29\n",
      "Data columns (total 25 columns):\n",
      " #   Column    Non-Null Count  Dtype  \n",
      "---  ------    --------------  -----  \n",
      " 0   RollNo    30 non-null     int64  \n",
      " 1   Name      30 non-null     object \n",
      " 2   Dept      30 non-null     object \n",
      " 3   Sec       30 non-null     object \n",
      " 4   Gender    30 non-null     object \n",
      " 5   Type      30 non-null     object \n",
      " 6   Category  30 non-null     object \n",
      " 7   Sub_1     0 non-null      float64\n",
      " 8   S1_Staff  0 non-null      float64\n",
      " 9   Sub_2     0 non-null      float64\n",
      " 10  S2_Staff  0 non-null      float64\n",
      " 11  Sub_3     0 non-null      float64\n",
      " 12  S3_Staff  0 non-null      float64\n",
      " 13  Sub_4     0 non-null      float64\n",
      " 14  S4_Staff  0 non-null      float64\n",
      " 15  Sub_5     0 non-null      float64\n",
      " 16  S5_Staff  0 non-null      float64\n",
      " 17  Sub_6     0 non-null      float64\n",
      " 18  S6_Staff  0 non-null      float64\n",
      " 19  Lab_1     0 non-null      float64\n",
      " 20  L1_Staff  0 non-null      float64\n",
      " 21  Lab_2     0 non-null      float64\n",
      " 22  L2_Staff  0 non-null      float64\n",
      " 23  Result    0 non-null      float64\n",
      " 24  Avg       0 non-null      float16\n",
      "dtypes: float16(1), float64(17), int64(1), object(6)\n",
      "memory usage: 5.8+ KB\n"
     ]
    }
   ],
   "source": [
    "df.info()"
   ]
  },
  {
   "cell_type": "code",
   "execution_count": 4,
   "id": "497090b9-a137-4e1a-af45-acddbb33b02b",
   "metadata": {},
   "outputs": [
    {
     "name": "stdout",
     "output_type": "stream",
     "text": [
      "<class 'pandas.core.frame.DataFrame'>\n",
      "RangeIndex: 30 entries, 0 to 29\n",
      "Data columns (total 25 columns):\n",
      " #   Column    Non-Null Count  Dtype   \n",
      "---  ------    --------------  -----   \n",
      " 0   RollNo    30 non-null     int64   \n",
      " 1   Name      30 non-null     object  \n",
      " 2   Dept      30 non-null     object  \n",
      " 3   Sec       30 non-null     object  \n",
      " 4   Gender    30 non-null     object  \n",
      " 5   Type      30 non-null     object  \n",
      " 6   Category  30 non-null     category\n",
      " 7   Sub_1     0 non-null      float64 \n",
      " 8   S1_Staff  0 non-null      float64 \n",
      " 9   Sub_2     0 non-null      float64 \n",
      " 10  S2_Staff  0 non-null      float64 \n",
      " 11  Sub_3     0 non-null      float64 \n",
      " 12  S3_Staff  0 non-null      float64 \n",
      " 13  Sub_4     0 non-null      float64 \n",
      " 14  S4_Staff  0 non-null      float64 \n",
      " 15  Sub_5     0 non-null      float64 \n",
      " 16  S5_Staff  0 non-null      float64 \n",
      " 17  Sub_6     0 non-null      float64 \n",
      " 18  S6_Staff  0 non-null      float64 \n",
      " 19  Lab_1     0 non-null      float64 \n",
      " 20  L1_Staff  0 non-null      float64 \n",
      " 21  Lab_2     0 non-null      float64 \n",
      " 22  L2_Staff  0 non-null      float64 \n",
      " 23  Result    0 non-null      float64 \n",
      " 24  Avg       0 non-null      float16 \n",
      "dtypes: category(1), float16(1), float64(17), int64(1), object(5)\n",
      "memory usage: 5.7+ KB\n"
     ]
    }
   ],
   "source": [
    "df[\"Category\"] = df[\"Category\"].astype(\"category\")\n",
    "df.info()"
   ]
  },
  {
   "cell_type": "code",
   "execution_count": null,
   "id": "d3775209-1ef2-4bc7-be14-ac2c11c72227",
   "metadata": {},
   "outputs": [],
   "source": []
  }
 ],
 "metadata": {
  "kernelspec": {
   "display_name": "Python 3 (ipykernel)",
   "language": "python",
   "name": "python3"
  },
  "language_info": {
   "codemirror_mode": {
    "name": "ipython",
    "version": 3
   },
   "file_extension": ".py",
   "mimetype": "text/x-python",
   "name": "python",
   "nbconvert_exporter": "python",
   "pygments_lexer": "ipython3",
   "version": "3.8.19"
  }
 },
 "nbformat": 4,
 "nbformat_minor": 5
}
