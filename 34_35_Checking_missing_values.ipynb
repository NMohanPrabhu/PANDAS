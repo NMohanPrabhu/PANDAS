{
 "cells": [
  {
   "cell_type": "markdown",
   "id": "3551493c-d8a0-40c8-8e61-5fd0df8abf99",
   "metadata": {},
   "source": [
    "<font color=\"blue\" size=\"6\">Missing Data </font>\n",
    "\n"
   ]
  },
  {
   "cell_type": "markdown",
   "id": "3fa59560-6ca3-4548-8bde-14eadb2c8401",
   "metadata": {},
   "source": [
    "<font color=\"green\" size=\"4\"> Representation Missing Values</font>\n",
    "<p>The usual way of representing missing values in Python is none\n",
    "<p>Numpy provides np.nan for float and objects\n",
    "<p>Pandas provides pd.NA to gerealize missing data and pd.NAT (not a time) for missing time data\n"
   ]
  },
  {
   "cell_type": "markdown",
   "id": "be3cb6b1-8e11-479d-8a64-406b45b1b43c",
   "metadata": {},
   "source": [
    "Missing Data can occur when no information is provided for one or more items or for a whole unit. Missing Data is a very big problem in a real-life scenarios. Missing Data can also refer to as NA(Not Available) values in pandas. In DataFrame sometimes many datasets simply arrive with missing data, either because it exists and was not collected or it never existed. For Example, Suppose different users being surveyed may choose not to share their income, some users may choose not to share the address in this way many datasets went missing."
   ]
  },
  {
   "cell_type": "markdown",
   "id": "5911f1fd-e1bb-40d1-8b97-d2c23de36896",
   "metadata": {},
   "source": [
    "<font color=\"green\" size=\"4\" ><b>1.Checking Missing Values </font>"
   ]
  },
  {
   "cell_type": "markdown",
   "id": "3cd6ee1d-d9ca-415e-8d2f-7f21f2ab4e97",
   "metadata": {},
   "source": [
    "In order to check missing values in Pandas DataFrame, we use a function isnull() and notnull(). Both of these functions help in checking whether a value is NaN or not. These functions can also be used in Pandas Series in order to find null values in a series."
   ]
  },
  {
   "cell_type": "markdown",
   "id": "8a417e0e-105d-45f6-89b6-7e503e205d02",
   "metadata": {},
   "source": [
    "<font color =\"yellow\"><b>Checking for missing values using isnull()</b></font>\n",
    "<p>In order to check null values in Pandas DataFrame, we use isnull() function this function return dataframe of Boolean values which are True for NaN values. "
   ]
  },
  {
   "cell_type": "markdown",
   "id": "5b38b6f7-1ba6-45a9-b5d9-cf8849679c38",
   "metadata": {},
   "source": [
    "Consider this data set: sample.csv\n",
    "Name\t    Gender\t   Dept\t      Salary\t Bonus\n",
    "Raj\t        M\t      Sales\t      10000\t     1000\n",
    "Sam\t        M\t      Marketing\t  50000\t     4000\n",
    "Hema\t    F\t      Finance\t  10000\t     2000\n",
    "Prabhu\t    M\t\t              80000\t\n",
    "Meenakshi\tF\t      HR\t     100000\t    10000\n",
    "Kalai\t\t          Admin\t      90000\t     4500\n"
   ]
  },
  {
   "cell_type": "code",
   "execution_count": 1,
   "id": "fcc15006-52f8-4357-bc27-f8fa401550c1",
   "metadata": {},
   "outputs": [
    {
     "data": {
      "text/html": [
       "<div>\n",
       "<style scoped>\n",
       "    .dataframe tbody tr th:only-of-type {\n",
       "        vertical-align: middle;\n",
       "    }\n",
       "\n",
       "    .dataframe tbody tr th {\n",
       "        vertical-align: top;\n",
       "    }\n",
       "\n",
       "    .dataframe thead th {\n",
       "        text-align: right;\n",
       "    }\n",
       "</style>\n",
       "<table border=\"1\" class=\"dataframe\">\n",
       "  <thead>\n",
       "    <tr style=\"text-align: right;\">\n",
       "      <th></th>\n",
       "      <th>Name</th>\n",
       "      <th>Gender</th>\n",
       "      <th>Dept</th>\n",
       "      <th>Salary</th>\n",
       "      <th>Bonus</th>\n",
       "    </tr>\n",
       "  </thead>\n",
       "  <tbody>\n",
       "    <tr>\n",
       "      <th>0</th>\n",
       "      <td>Raj</td>\n",
       "      <td>M</td>\n",
       "      <td>Sales</td>\n",
       "      <td>10000</td>\n",
       "      <td>1000.0</td>\n",
       "    </tr>\n",
       "    <tr>\n",
       "      <th>1</th>\n",
       "      <td>Sam</td>\n",
       "      <td>M</td>\n",
       "      <td>Marketing</td>\n",
       "      <td>50000</td>\n",
       "      <td>4000.0</td>\n",
       "    </tr>\n",
       "    <tr>\n",
       "      <th>2</th>\n",
       "      <td>Hema</td>\n",
       "      <td>F</td>\n",
       "      <td>Finance</td>\n",
       "      <td>10000</td>\n",
       "      <td>2000.0</td>\n",
       "    </tr>\n",
       "    <tr>\n",
       "      <th>3</th>\n",
       "      <td>Prabhu</td>\n",
       "      <td>M</td>\n",
       "      <td>NaN</td>\n",
       "      <td>80000</td>\n",
       "      <td>NaN</td>\n",
       "    </tr>\n",
       "    <tr>\n",
       "      <th>4</th>\n",
       "      <td>Meenakshi</td>\n",
       "      <td>F</td>\n",
       "      <td>HR</td>\n",
       "      <td>100000</td>\n",
       "      <td>10000.0</td>\n",
       "    </tr>\n",
       "    <tr>\n",
       "      <th>5</th>\n",
       "      <td>Kalai</td>\n",
       "      <td>NaN</td>\n",
       "      <td>Admin</td>\n",
       "      <td>90000</td>\n",
       "      <td>4500.0</td>\n",
       "    </tr>\n",
       "  </tbody>\n",
       "</table>\n",
       "</div>"
      ],
      "text/plain": [
       "        Name Gender       Dept  Salary    Bonus\n",
       "0        Raj      M      Sales   10000   1000.0\n",
       "1        Sam      M  Marketing   50000   4000.0\n",
       "2       Hema      F    Finance   10000   2000.0\n",
       "3     Prabhu      M        NaN   80000      NaN\n",
       "4  Meenakshi      F         HR  100000  10000.0\n",
       "5      Kalai    NaN      Admin   90000   4500.0"
      ]
     },
     "execution_count": 1,
     "metadata": {},
     "output_type": "execute_result"
    }
   ],
   "source": [
    "# importing pandas package  \n",
    "import pandas as pd \n",
    "import numpy as np \n",
    "# making data frame from csv file  \n",
    "data = pd.read_csv(\"DATASETS\\\\sample.csv\")\n",
    "df = pd.DataFrame(data)\n",
    "df\n",
    "\n"
   ]
  },
  {
   "cell_type": "code",
   "execution_count": 2,
   "id": "fbee1491-2f8f-4078-979d-aa7dddfc69ea",
   "metadata": {},
   "outputs": [
    {
     "data": {
      "text/plain": [
       "0    False\n",
       "1    False\n",
       "2    False\n",
       "3    False\n",
       "4    False\n",
       "5     True\n",
       "Name: Gender, dtype: bool"
      ]
     },
     "execution_count": 2,
     "metadata": {},
     "output_type": "execute_result"
    }
   ],
   "source": [
    "bool_series = pd.isnull(df[\"Gender\"])\n",
    "bool_series"
   ]
  },
  {
   "cell_type": "markdown",
   "id": "724c1530-6d1a-411e-99ca-767e06044603",
   "metadata": {},
   "source": [
    "“Since kalai gender is missing so it is displayed True”."
   ]
  },
  {
   "cell_type": "markdown",
   "id": "c27c41ec-3cb4-4e65-b747-3306690c853d",
   "metadata": {},
   "source": [
    "<font color=\"yellow\" size=\"4\"><b>Checking for missing values using notnull()</b></font>"
   ]
  },
  {
   "cell_type": "markdown",
   "id": "c6bf9557-c8fd-463f-9dfa-8899894233c3",
   "metadata": {},
   "source": [
    "In order to check null values in Pandas Dataframe, we use notnull() function this function return dataframe of Boolean values which are False for NaN values. "
   ]
  },
  {
   "cell_type": "code",
   "execution_count": 3,
   "id": "25f62419-b2e9-4d0d-a38f-3b42ef916b7b",
   "metadata": {},
   "outputs": [
    {
     "data": {
      "text/plain": [
       "0     True\n",
       "1     True\n",
       "2     True\n",
       "3     True\n",
       "4     True\n",
       "5    False\n",
       "Name: Gender, dtype: bool"
      ]
     },
     "execution_count": 3,
     "metadata": {},
     "output_type": "execute_result"
    }
   ],
   "source": [
    "bool_series = pd.notnull(df[\"Gender\"])\n",
    "bool_series\n"
   ]
  },
  {
   "cell_type": "code",
   "execution_count": null,
   "id": "de68cf4b-d3d6-44f7-9491-3bd84d3f37c9",
   "metadata": {},
   "outputs": [],
   "source": []
  },
  {
   "cell_type": "code",
   "execution_count": null,
   "id": "7e3225e2-899d-4445-807a-7ddc68b2b50f",
   "metadata": {},
   "outputs": [],
   "source": []
  },
  {
   "cell_type": "code",
   "execution_count": null,
   "id": "909da3b3-4881-4416-b88b-7ff310694bd5",
   "metadata": {},
   "outputs": [],
   "source": []
  }
 ],
 "metadata": {
  "kernelspec": {
   "display_name": "Python 3 (ipykernel)",
   "language": "python",
   "name": "python3"
  },
  "language_info": {
   "codemirror_mode": {
    "name": "ipython",
    "version": 3
   },
   "file_extension": ".py",
   "mimetype": "text/x-python",
   "name": "python",
   "nbconvert_exporter": "python",
   "pygments_lexer": "ipython3",
   "version": "3.8.19"
  }
 },
 "nbformat": 4,
 "nbformat_minor": 5
}
