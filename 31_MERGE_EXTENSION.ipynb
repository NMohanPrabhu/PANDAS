{
 "cells": [
  {
   "cell_type": "markdown",
   "id": "15f5a15a-da62-4d95-ab23-4a379e3f38fa",
   "metadata": {},
   "source": [
    "The merge() function in Pandas lets you combine two DataFrames using SQL-style join operations (like INNER JOIN, LEFT JOIN, etc.) on one or more common keys."
   ]
  },
  {
   "cell_type": "markdown",
   "id": "4ba9a0cc-3945-4eea-8ab9-d578d7af33b4",
   "metadata": {},
   "source": [
    "<p>#Syntax\n",
    "<p>pd.merge(left, right, how='inner', on=None, left_on=None, right_on=None)\n",
    "left, right: DataFrames to merge</p>\n",
    "\n",
    "<p>how: 'inner', 'left', 'right', 'outer'\n",
    "\n",
    "<p>on: Column(s) to join on (same column name)\n",
    "\n",
    "<p>left_on, right_on: Join on different column names"
   ]
  },
  {
   "cell_type": "code",
   "execution_count": 2,
   "id": "2bb65565-ca8e-434d-bc37-f50d0e505109",
   "metadata": {},
   "outputs": [
    {
     "name": "stdout",
     "output_type": "stream",
     "text": [
      "   EmpID   Name Department\n",
      "0      1  Alice         HR\n",
      "1      2    Bob         IT\n"
     ]
    }
   ],
   "source": [
    "#1. Simple Inner Join\n",
    "import pandas as pd\n",
    "\n",
    "df1 = pd.DataFrame({\n",
    "    'EmpID': [1, 2, 3],\n",
    "    'Name': ['Alice', 'Bob', 'Charlie']\n",
    "})\n",
    "\n",
    "df2 = pd.DataFrame({\n",
    "    'EmpID': [1, 2, 4],\n",
    "    'Department': ['HR', 'IT', 'Finance']\n",
    "})\n",
    "\n",
    "merged = pd.merge(df1, df2, on='EmpID', how='inner')\n",
    "print(merged)\n"
   ]
  },
  {
   "cell_type": "code",
   "execution_count": 3,
   "id": "9aa3c60f-2fc6-4c5e-8867-413fe39fc0ad",
   "metadata": {},
   "outputs": [
    {
     "name": "stdout",
     "output_type": "stream",
     "text": [
      "   EmpID     Name Department\n",
      "0      1    Alice         HR\n",
      "1      2      Bob         IT\n",
      "2      3  Charlie        NaN\n"
     ]
    }
   ],
   "source": [
    "#2. Left Join\n",
    "merged = pd.merge(df1, df2, on='EmpID', how='left')\n",
    "print(merged)"
   ]
  },
  {
   "cell_type": "code",
   "execution_count": 4,
   "id": "fb9b60c5-3b4c-497e-a562-e8371a3c50e2",
   "metadata": {},
   "outputs": [
    {
     "name": "stdout",
     "output_type": "stream",
     "text": [
      "   EmpID     Name Department\n",
      "0      1    Alice         HR\n",
      "1      2      Bob         IT\n",
      "2      3  Charlie        NaN\n",
      "3      4      NaN    Finance\n"
     ]
    }
   ],
   "source": [
    "#3. Outer Join (Full Join)\n",
    "merged = pd.merge(df1, df2, on='EmpID', how='outer')\n",
    "print(merged)"
   ]
  },
  {
   "cell_type": "code",
   "execution_count": 6,
   "id": "494f5815-c723-4da8-b304-8decba6dca54",
   "metadata": {},
   "outputs": [
    {
     "name": "stdout",
     "output_type": "stream",
     "text": [
      "   EmpID     Name  ID  Salary\n",
      "0      1    Alice   1   50000\n",
      "1      2      Bob   2   60000\n",
      "2      3  Charlie   3   70000\n"
     ]
    }
   ],
   "source": [
    "#4. Join on Different Column Names\n",
    "df3 = pd.DataFrame({\n",
    "    'ID': [1, 2, 3],\n",
    "    'Salary': [50000, 60000, 70000]\n",
    "})\n",
    "merged = pd.merge(df1, df3, left_on='EmpID', right_on='ID', how='inner')\n",
    "print(merged)"
   ]
  },
  {
   "cell_type": "code",
   "execution_count": null,
   "id": "c632582a-4cc2-45e1-8706-71bbf2eff42d",
   "metadata": {},
   "outputs": [],
   "source": []
  }
 ],
 "metadata": {
  "kernelspec": {
   "display_name": "Python 3 (ipykernel)",
   "language": "python",
   "name": "python3"
  },
  "language_info": {
   "codemirror_mode": {
    "name": "ipython",
    "version": 3
   },
   "file_extension": ".py",
   "mimetype": "text/x-python",
   "name": "python",
   "nbconvert_exporter": "python",
   "pygments_lexer": "ipython3",
   "version": "3.8.19"
  }
 },
 "nbformat": 4,
 "nbformat_minor": 5
}
