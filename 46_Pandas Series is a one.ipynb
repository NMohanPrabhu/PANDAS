{
 "cells": [
  {
   "cell_type": "markdown",
   "id": "a46d67f5-a7c6-4f76-8a51-000643749b8a",
   "metadata": {},
   "source": [
    "<font color=\"blue\" size=\"6\" >PANDAS SERIES</font>"
   ]
  },
  {
   "cell_type": "markdown",
   "id": "f525be9c-088a-4e81-b715-d16255233b0e",
   "metadata": {},
   "source": [
    "Pandas Series is a one-dimensional labeled array capable of holding data of any type (integer, string, float, python objects, etc.)."
   ]
  },
  {
   "cell_type": "code",
   "execution_count": 1,
   "id": "dac9b7dd-0e01-4a99-b9f1-a18cc189c57f",
   "metadata": {},
   "outputs": [
    {
     "name": "stdout",
     "output_type": "stream",
     "text": [
      "0    1\n",
      "1    2\n",
      "2    3\n",
      "3    4\n",
      "dtype: int64\n"
     ]
    }
   ],
   "source": [
    "# import pandas as pd\n",
    "import pandas as pd\n",
    " \n",
    "# simple array\n",
    "data = [1, 2, 3, 4]\n",
    " \n",
    "ser = pd.Series(data)\n",
    "print(ser)\n"
   ]
  },
  {
   "cell_type": "markdown",
   "id": "ae2f337e-2d95-41ff-b5a9-9cacafad3aeb",
   "metadata": {},
   "source": [
    "The axis labels are collectively called index. Pandas Series is nothing but a column in an excel sheet."
   ]
  },
  {
   "cell_type": "markdown",
   "id": "53150e66-3a48-4f4b-ae58-924bf117dcc3",
   "metadata": {},
   "source": [
    "<p>In the real world, a Pandas Series will be created by loading the datasets from existing storage, storage can be SQL Database, CSV file, and Excel file. \n",
    "<p>Pandas Series can be created from the lists, dictionary, and from a scalar value etc. Series can be created in different ways, here are some ways by which we create a series:"
   ]
  },
  {
   "cell_type": "markdown",
   "id": "a05fb396-6688-4e3c-821f-7bb4079b058d",
   "metadata": {},
   "source": [
    "1.Creating a series from array: "
   ]
  },
  {
   "cell_type": "code",
   "execution_count": 2,
   "id": "1df7816f-d093-4f58-94a6-1e3ee08a9710",
   "metadata": {},
   "outputs": [
    {
     "name": "stdout",
     "output_type": "stream",
     "text": [
      "0    g\n",
      "1    e\n",
      "2    e\n",
      "3    k\n",
      "4    s\n",
      "dtype: object\n"
     ]
    }
   ],
   "source": [
    "# import pandas as pd\n",
    "import pandas as pd\n",
    " \n",
    "# import numpy as np\n",
    "import numpy as np\n",
    " \n",
    "# simple array\n",
    "data = np.array(['g','e','e','k','s'])\n",
    " \n",
    "ser = pd.Series(data)\n",
    "print(ser)\n"
   ]
  },
  {
   "cell_type": "markdown",
   "id": "011ed696-8441-4045-b720-fa84d8ba9b55",
   "metadata": {},
   "source": [
    "2.Creating a series from Lists:"
   ]
  },
  {
   "cell_type": "code",
   "execution_count": 3,
   "id": "ba10e5e3-9d9f-4fd8-afdb-e5f5405f52f7",
   "metadata": {},
   "outputs": [
    {
     "name": "stdout",
     "output_type": "stream",
     "text": [
      "0    g\n",
      "1    e\n",
      "2    e\n",
      "3    k\n",
      "4    s\n",
      "dtype: object\n"
     ]
    }
   ],
   "source": [
    "import pandas as pd\n",
    " \n",
    "# a simple list\n",
    "list = ['g', 'e', 'e', 'k', 's']\n",
    "  \n",
    "# create series form a list\n",
    "ser = pd.Series(list)\n",
    "print(ser)\n"
   ]
  },
  {
   "cell_type": "markdown",
   "id": "91f69891-253d-4b5d-8fdb-e051c20ed276",
   "metadata": {},
   "source": [
    "3.Create a Pandas Series Object from NumPy ndarray Object"
   ]
  },
  {
   "cell_type": "code",
   "execution_count": 4,
   "id": "710bd276-8268-48ec-bd83-327f0347dec3",
   "metadata": {},
   "outputs": [],
   "source": [
    "import pandas as pd\n",
    "import numpy as np\n",
    "np_array = np.array([1,2,3,5,6,7,9,1,10])\n",
    "data = pd.Series(np_array)\n"
   ]
  },
  {
   "cell_type": "markdown",
   "id": "236013e4-c2c0-4eb1-a3be-430a977a96a9",
   "metadata": {},
   "source": [
    "4.Create a Pandas Series Object from a Dictionary"
   ]
  },
  {
   "cell_type": "code",
   "execution_count": 5,
   "id": "72ee6e4f-6d6a-4a8e-94ee-c12ef10008ae",
   "metadata": {},
   "outputs": [],
   "source": [
    "dictionary = {'a':1,'b':2,'c':3, 'd':4}\n",
    "data = pd.Series(dictionary)\n"
   ]
  },
  {
   "cell_type": "markdown",
   "id": "f98fc3ed-34b2-4e98-b612-cbae7ff93a32",
   "metadata": {},
   "source": [
    "5.Create a Pandas Series Object from a Scalar"
   ]
  },
  {
   "cell_type": "markdown",
   "id": "8b9250e7-b018-45f0-a98b-be27718df6a7",
   "metadata": {},
   "source": [
    "The index parameter should be supplied when the data is a scalar value. The value will be replicated till the index length is reached. "
   ]
  },
  {
   "cell_type": "code",
   "execution_count": 6,
   "id": "55e846be-4327-4397-a044-0dd496b8d8b1",
   "metadata": {},
   "outputs": [],
   "source": [
    "data = pd.Series(17, index=[0,1,2,3,4,5,6,7,8,9,10])"
   ]
  },
  {
   "cell_type": "markdown",
   "id": "703eb3af-bd2a-44ac-9dd6-d2a70687d69a",
   "metadata": {},
   "source": [
    "Accessing element of Series\n",
    "<p>There are two ways through which we can access element of series, they are :\n",
    "<p>Accessing Element from Series with Position\n",
    "<p>Accessing Element Using Label (index) \n",
    "<p>Accessing Element from Series with Position : In order to access the series element refers to the index number. Use the index operator [ ] to access an element in a series. The index must be an integer. In order to access multiple elements from a series, we use Slice operation.\n"
   ]
  },
  {
   "cell_type": "code",
   "execution_count": 7,
   "id": "c3b49c25-4012-4a40-b076-2528fa9bd8a2",
   "metadata": {},
   "outputs": [
    {
     "name": "stdout",
     "output_type": "stream",
     "text": [
      "0    g\n",
      "1    e\n",
      "2    e\n",
      "3    k\n",
      "4    s\n",
      "dtype: object\n"
     ]
    }
   ],
   "source": [
    "# import pandas and numpy \n",
    "import pandas as pd\n",
    "import numpy as np\n",
    " \n",
    "# creating simple array\n",
    "data = np.array(['g','e','e','k','s','f', 'o','r','g','e','e','k','s'])\n",
    "ser = pd.Series(data)\n",
    "  \n",
    "  \n",
    "#retrieve the upto 5 element in series\n",
    "print(ser[:5])\n"
   ]
  },
  {
   "cell_type": "markdown",
   "id": "924f1074-107f-4b05-89f2-781bc26e8aab",
   "metadata": {},
   "source": [
    "Accessing Element Using Label (index) :"
   ]
  },
  {
   "cell_type": "markdown",
   "id": "11269b55-5351-4d3e-a04c-b38ca6db09a2",
   "metadata": {},
   "source": [
    "In order to access an element from series, we have to set values by index label. A Series is like a fixed-size dictionary in that you can get and set values by index label.\n",
    "Accessing a single element using index label \n"
   ]
  },
  {
   "cell_type": "code",
   "execution_count": 8,
   "id": "b66c5fd3-b8d8-4c91-bc52-c0656cb59801",
   "metadata": {},
   "outputs": [
    {
     "name": "stdout",
     "output_type": "stream",
     "text": [
      "o\n"
     ]
    }
   ],
   "source": [
    "# import pandas and numpy \n",
    "import pandas as pd\n",
    "import numpy as np\n",
    " \n",
    "# creating simple array\n",
    "data = np.array(['g','e','e','k','s','f', 'o','r','g','e','e','k','s'])\n",
    "ser = pd.Series(data,index=[10,11,12,13,14,15,16,17,18,19,20,21,22])\n",
    "  \n",
    "  \n",
    "# accessing a element using index element\n",
    "print(ser[16])\n"
   ]
  },
  {
   "cell_type": "markdown",
   "id": "5a61e9e9-5bca-41dc-b8f6-89a1fda9c986",
   "metadata": {},
   "source": [
    "Binary Operation on Pandas Series Object"
   ]
  },
  {
   "cell_type": "markdown",
   "id": "c1d532e9-2ce7-49bc-8acc-5428b840e34a",
   "metadata": {},
   "source": [
    "A binary operation is a rule that permits combining two elements to generate another element. We can execute binary operations on pandas series, such as addition, subtraction, etc. We must employ functions such as Series to conduct binary operations on a series.add(), Series.sub(), and so on."
   ]
  },
  {
   "cell_type": "code",
   "execution_count": 9,
   "id": "8be1030b-3332-4eb2-a5d5-8daf5eafca85",
   "metadata": {},
   "outputs": [
    {
     "name": "stdout",
     "output_type": "stream",
     "text": [
      "Series 1 :\n",
      " 0     1\n",
      "1     2\n",
      "2     3\n",
      "3     5\n",
      "4     6\n",
      "5     7\n",
      "6     9\n",
      "7     1\n",
      "8    10\n",
      "dtype: int64\n",
      "Series 2 :\n",
      " 0     1\n",
      "1     2\n",
      "2     3\n",
      "3     5\n",
      "4     6\n",
      "5     7\n",
      "6     9\n",
      "7     1\n",
      "8    10\n",
      "dtype: int64\n",
      "Sum of series 1 and series 2 :\n",
      " 0     3\n",
      "1     5\n",
      "2     8\n",
      "3     7\n",
      "4    11\n",
      "5    13\n",
      "6    10\n",
      "7     4\n",
      "8    10\n",
      "dtype: int64\n",
      "Difference of series 1 and series 2 :\n",
      " 0    -1\n",
      "1    -1\n",
      "2    -2\n",
      "3     3\n",
      "4     1\n",
      "5     1\n",
      "6     8\n",
      "7    -2\n",
      "8    10\n",
      "dtype: int64\n",
      "Multiplication of series 1 and series 2 :\n",
      " 0     2\n",
      "1     6\n",
      "2    15\n",
      "3    10\n",
      "4    30\n",
      "5    42\n",
      "6     9\n",
      "7     3\n",
      "8     0\n",
      "dtype: int64\n",
      "floor division to Series1 by Series2:\n",
      " 0    0\n",
      "1    0\n",
      "2    0\n",
      "3    2\n",
      "4    1\n",
      "5    1\n",
      "6    9\n",
      "7    0\n",
      "8    0\n",
      "dtype: int64\n",
      "division to Series1 by Series2:\n",
      " 0    0.500000\n",
      "1    0.666667\n",
      "2    0.600000\n",
      "3    2.500000\n",
      "4    1.200000\n",
      "5    1.166667\n",
      "6    9.000000\n",
      "7    0.333333\n",
      "8         inf\n",
      "dtype: float64\n",
      "Dot product of Series1 and Series2:\n",
      " 117\n",
      "Result of applying the greater than function(gt): 0    False\n",
      "1    False\n",
      "2    False\n",
      "3     True\n",
      "4     True\n",
      "5     True\n",
      "6     True\n",
      "7    False\n",
      "8     True\n",
      "dtype: bool\n",
      "pandas Series of strings 1 < pandas Series of strings 2 0     True\n",
      "1     True\n",
      "2     True\n",
      "3    False\n",
      "4    False\n",
      "5    False\n",
      "6    False\n",
      "7     True\n",
      "8    False\n",
      "dtype: bool\n",
      "Applying Less Than Equal To Condition 0     True\n",
      "1     True\n",
      "2     True\n",
      "3    False\n",
      "4    False\n",
      "5    False\n",
      "6    False\n",
      "7     True\n",
      "8    False\n",
      "dtype: bool\n",
      " Combine two series instances by selecting minimum value  0    1\n",
      "1    2\n",
      "2    3\n",
      "3    2\n",
      "4    5\n",
      "5    6\n",
      "6    1\n",
      "7    1\n",
      "8    0\n",
      "dtype: int64\n",
      " First series modulo divided by the second series:  0    1\n",
      "1    2\n",
      "2    3\n",
      "3    1\n",
      "4    1\n",
      "5    1\n",
      "6    0\n",
      "7    1\n",
      "8    0\n",
      "dtype: int64\n"
     ]
    }
   ],
   "source": [
    "import pandas as pd\n",
    "import numpy as np\n",
    "\n",
    "series1 = pd.Series([1,2,3,5,6,7,9,1,10])\n",
    "series2 = pd.Series([2,3,5,2,5,6,1,3,0])\n",
    "\n",
    "print(\"Series 1 :\\n\", series1)\n",
    "print(\"Series 2 :\\n\", series1)\n",
    "print(\"Sum of series 1 and series 2 :\\n\",series1.add(series2))\n",
    "print(\"Difference of series 1 and series 2 :\\n\",series1.sub(series2))\n",
    "print(\"Multiplication of series 1 and series 2 :\\n\",series1.mul(series2))\n",
    "print(\"floor division to Series1 by Series2:\\n\",series1.floordiv(series2))\n",
    "print(\"division to Series1 by Series2:\\n\",series1.div(series2))\n",
    "print(\"Dot product of Series1 and Series2:\\n\",series1.dot(series2))\n",
    "print(\"Result of applying the greater than function(gt):\",series1.gt(series2));\n",
    "print(\"pandas Series of strings 1 < pandas Series of strings 2\",series1.lt(series2));\n",
    "print(\"Applying Less Than Equal To Condition\",series1.le(series2));\n",
    "print(\" Combine two series instances by selecting minimum value \",series1.combine(series2, min));\n",
    "print(\" First series modulo divided by the second series: \",series1.mod(series2));\n"
   ]
  },
  {
   "cell_type": "code",
   "execution_count": null,
   "id": "740a21be-38b7-4580-931c-b232d8cad81f",
   "metadata": {},
   "outputs": [],
   "source": []
  },
  {
   "cell_type": "code",
   "execution_count": null,
   "id": "da25d591-2cc1-40bd-9f84-6c8bb86d32f4",
   "metadata": {},
   "outputs": [],
   "source": []
  }
 ],
 "metadata": {
  "kernelspec": {
   "display_name": "Python 3 (ipykernel)",
   "language": "python",
   "name": "python3"
  },
  "language_info": {
   "codemirror_mode": {
    "name": "ipython",
    "version": 3
   },
   "file_extension": ".py",
   "mimetype": "text/x-python",
   "name": "python",
   "nbconvert_exporter": "python",
   "pygments_lexer": "ipython3",
   "version": "3.8.19"
  }
 },
 "nbformat": 4,
 "nbformat_minor": 5
}
