{
 "cells": [
  {
   "cell_type": "markdown",
   "id": "f46c1d18-582c-4e29-94c4-a48c59d6f2ff",
   "metadata": {},
   "source": [
    "<font color=\"blue\" size=\"6\">Read and write Pandas objects Directly to Compressed File Format</font>"
   ]
  },
  {
   "cell_type": "markdown",
   "id": "e9b828b0-f32d-4e0e-a81c-6edc879545b2",
   "metadata": {},
   "source": [
    "<p>Pandas dataframe can be saved in gzip/zip format using the gzip and zipfile module in Python. \n",
    "<p>Pandas is a Python library that is used for data manipulation and analysis. \n",
    "<p>It provides a two-dimensional labeled data structure with columns of potentially different data types. \n",
    "<p>To reduce the size of the data frame we need to store it in gzip/zip format. "
   ]
  },
  {
   "cell_type": "markdown",
   "id": "297fc02a-2bff-46bf-bc5c-a1eddcb59656",
   "metadata": {},
   "source": [
    "<font color=\"yellow\" size=\"4\" >Example 1: Saving Pandas Data Frame as a Gzip file</font>"
   ]
  },
  {
   "cell_type": "code",
   "execution_count": 1,
   "id": "e921f5ae-c7b4-422b-b357-ecbff20493be",
   "metadata": {},
   "outputs": [],
   "source": [
    "import pandas as pd\n",
    "import gzip\n",
    "\n",
    "# Create a DataFrame\n",
    "data = {'Name': ['Alice', 'Bob', 'Charlie'],\n",
    "      'Age': [25, 30, 35],\n",
    "      'Salary': [50000, 60000, 70000]}\n",
    "df = pd.DataFrame(data)\n",
    "\n",
    "# Save DataFrame as a gzip file\n",
    "with gzip.open('data.gz', 'wb') as f:\n",
    "   df.to_csv(f, index=False)\n"
   ]
  },
  {
   "cell_type": "markdown",
   "id": "655d2ab0-2d1c-442b-a288-04ef64930a3d",
   "metadata": {},
   "source": [
    "<font color=\"yellow\" size=\"4\" >Exercise 2:  Saving Pandas DataFrame as a Zip File</font>"
   ]
  },
  {
   "cell_type": "code",
   "execution_count": 2,
   "id": "e2882b31-4b4c-45d6-a9e2-b62f51e6ce6f",
   "metadata": {},
   "outputs": [],
   "source": [
    "import pandas as pd\n",
    "import zipfile\n",
    "\n",
    "# Create a DataFrame\n",
    "data = {'Name': ['Alice', 'Bob', 'Charlie'],   'Age': [25, 30, 35],   'Salary': [50000, 60000, 70000]}\n",
    "df = pd.DataFrame(data)\n",
    "\n",
    "# Save DataFrame as a zip file\n",
    "with zipfile.ZipFile('data1.zip', 'w', compression=zipfile.ZIP_DEFLATED) as z:\n",
    "                                            with z.open('data1.csv', 'w') as f:\n",
    "                                                            df.to_csv(f, index=False)\n"
   ]
  },
  {
   "cell_type": "code",
   "execution_count": null,
   "id": "c697c7e1-3033-48ac-9c90-0ca13e1282c4",
   "metadata": {},
   "outputs": [],
   "source": []
  },
  {
   "cell_type": "code",
   "execution_count": null,
   "id": "09e94e5f-42c0-424f-a55b-bd731a264ef0",
   "metadata": {},
   "outputs": [],
   "source": []
  }
 ],
 "metadata": {
  "kernelspec": {
   "display_name": "Python 3 (ipykernel)",
   "language": "python",
   "name": "python3"
  },
  "language_info": {
   "codemirror_mode": {
    "name": "ipython",
    "version": 3
   },
   "file_extension": ".py",
   "mimetype": "text/x-python",
   "name": "python",
   "nbconvert_exporter": "python",
   "pygments_lexer": "ipython3",
   "version": "3.8.19"
  }
 },
 "nbformat": 4,
 "nbformat_minor": 5
}
