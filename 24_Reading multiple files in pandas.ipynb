{
 "cells": [
  {
   "cell_type": "markdown",
   "id": "c4992dad",
   "metadata": {},
   "source": [
    "<font color=\"blue\" size=\"6\" >Reading multiple files in pandas</font>"
   ]
  },
  {
   "cell_type": "markdown",
   "id": "c2e34031",
   "metadata": {},
   "source": [
    "<font color=\"green\">Using the glob package</font>\n",
    "<p>The glob module in python is used to retrieve files or pathnames matching a specified pattern. \n",
    "<p>This program is similar to the above program but the only difference is instead of keeping track of file names using a list we use the glob package to retrieve files matching a specified pattern.\n"
   ]
  },
  {
   "cell_type": "code",
   "execution_count": 1,
   "id": "4c2233ec",
   "metadata": {},
   "outputs": [],
   "source": [
    "import pandas as pd\n",
    "import glob \n"
   ]
  },
  {
   "cell_type": "code",
   "execution_count": 2,
   "id": "1211218a",
   "metadata": {},
   "outputs": [
    {
     "name": "stdout",
     "output_type": "stream",
     "text": [
      "    instant      dteday  season   yr  mnth  holiday\n",
      "0         1  2011-01-01     1.0  0.0   1.0      0.0\n",
      "1         2  2011-01-02     1.0  0.0   1.0      0.0\n",
      "2         3  2011-01-03     1.0  0.0   1.0      0.0\n",
      "3         4  2011-01-04     1.0  0.0   1.0      0.0\n",
      "4         5  2011-01-05     1.0  0.0   1.0      0.0\n",
      "5         6  2011-01-06     1.0  0.0   1.0      0.0\n",
      "6         7  2011-01-07     1.0  0.0   1.0      0.0\n",
      "7         8  2011-01-08     1.0  0.0   1.0      0.0\n",
      "8         9  2011-01-09     1.0  0.0   1.0      0.0\n",
      "9        10  2011-01-10     1.0  0.0   1.0      0.0\n",
      "10       11  2011-01-11     1.0  0.0   1.0      0.0\n",
      "11       12  2011-01-12     1.0  0.0   1.0      0.0\n",
      "12       13  2011-01-13     1.0  0.0   1.0      0.0\n",
      "13       14  2011-01-14     1.0  0.0   1.0      0.0\n",
      "14       15  2011-01-15     1.0  0.0   1.0      0.0\n",
      "15       16  2011-01-16     1.0  0.0   1.0      0.0\n",
      "16       17  2011-01-17     1.0  0.0   1.0      1.0\n",
      "17       18  2011-01-18     1.0  0.0   1.0      0.0\n",
      "18       19  2011-01-19     1.0  0.0   1.0      0.0\n",
      "19       20  2011-01-20     NaN  NaN   NaN      NaN\n"
     ]
    }
   ],
   "source": [
    "folder_path = 'DATASETS\\\\csv_files'\n",
    "file_list = glob.glob(folder_path + \"/*.csv\") \n",
    "main_dataframe = pd.DataFrame(pd.read_csv(file_list[0])) \n",
    "for i in range(1,len(file_list)): \n",
    "    data = pd.read_csv(file_list[i]) \n",
    "    df = pd.DataFrame(data) \n",
    "    main_dataframe = pd.concat([main_dataframe,df],axis=1) \n",
    "print(main_dataframe)\n"
   ]
  },
  {
   "cell_type": "code",
   "execution_count": null,
   "id": "50fe795f",
   "metadata": {},
   "outputs": [],
   "source": []
  },
  {
   "cell_type": "code",
   "execution_count": null,
   "id": "8a0774e4-33c6-4e3a-942c-178cba3c4f6f",
   "metadata": {},
   "outputs": [],
   "source": []
  },
  {
   "cell_type": "code",
   "execution_count": null,
   "id": "f61476db-ca12-44cc-9027-974181593a3a",
   "metadata": {},
   "outputs": [],
   "source": []
  }
 ],
 "metadata": {
  "kernelspec": {
   "display_name": "Python 3 (ipykernel)",
   "language": "python",
   "name": "python3"
  },
  "language_info": {
   "codemirror_mode": {
    "name": "ipython",
    "version": 3
   },
   "file_extension": ".py",
   "mimetype": "text/x-python",
   "name": "python",
   "nbconvert_exporter": "python",
   "pygments_lexer": "ipython3",
   "version": "3.8.19"
  }
 },
 "nbformat": 4,
 "nbformat_minor": 5
}
