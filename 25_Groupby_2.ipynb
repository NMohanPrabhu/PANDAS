{
 "cells": [
  {
   "cell_type": "markdown",
   "id": "bcf8b55d-c38b-4d79-8b45-e93b2f65c04a",
   "metadata": {},
   "source": [
    "<Font color=\"Yellow\" size=\"6\">GROUPBY ADDITION EXCERCISE </FONT>"
   ]
  },
  {
   "cell_type": "code",
   "execution_count": 2,
   "id": "eb45e4d2-b59b-4bcf-b2b4-e253f9e8b547",
   "metadata": {},
   "outputs": [
    {
     "name": "stdout",
     "output_type": "stream",
     "text": [
      "Department\n",
      "HR       46000.0\n",
      "IT       71000.0\n",
      "Sales    55000.0\n",
      "Name: Salary, dtype: float64\n"
     ]
    }
   ],
   "source": [
    "import pandas as pd\n",
    "\n",
    "data = {\n",
    "    'Department': ['Sales', 'Sales', 'HR', 'HR', 'IT', 'IT'],\n",
    "    'Employee': ['Alice', 'Bob', 'Charlie', 'David', 'Eva', 'Frank'],\n",
    "    'Salary': [50000, 60000, 45000, 47000, 70000, 72000]\n",
    "}\n",
    "\n",
    "df = pd.DataFrame(data)\n",
    "\n",
    "# Group by department and get mean salary\n",
    "grouped = df.groupby('Department')['Salary'].mean()\n",
    "print(grouped)\n"
   ]
  },
  {
   "cell_type": "code",
   "execution_count": 3,
   "id": "85fd7567-de5a-41c2-ab02-db84f0d15dd7",
   "metadata": {},
   "outputs": [
    {
     "data": {
      "text/html": [
       "<div>\n",
       "<style scoped>\n",
       "    .dataframe tbody tr th:only-of-type {\n",
       "        vertical-align: middle;\n",
       "    }\n",
       "\n",
       "    .dataframe tbody tr th {\n",
       "        vertical-align: top;\n",
       "    }\n",
       "\n",
       "    .dataframe thead th {\n",
       "        text-align: right;\n",
       "    }\n",
       "</style>\n",
       "<table border=\"1\" class=\"dataframe\">\n",
       "  <thead>\n",
       "    <tr style=\"text-align: right;\">\n",
       "      <th></th>\n",
       "      <th>Department</th>\n",
       "      <th>Employee</th>\n",
       "      <th>Salary</th>\n",
       "    </tr>\n",
       "  </thead>\n",
       "  <tbody>\n",
       "    <tr>\n",
       "      <th>0</th>\n",
       "      <td>Sales</td>\n",
       "      <td>Alice</td>\n",
       "      <td>50000</td>\n",
       "    </tr>\n",
       "    <tr>\n",
       "      <th>1</th>\n",
       "      <td>Sales</td>\n",
       "      <td>Bob</td>\n",
       "      <td>60000</td>\n",
       "    </tr>\n",
       "    <tr>\n",
       "      <th>2</th>\n",
       "      <td>HR</td>\n",
       "      <td>Charlie</td>\n",
       "      <td>45000</td>\n",
       "    </tr>\n",
       "    <tr>\n",
       "      <th>3</th>\n",
       "      <td>HR</td>\n",
       "      <td>David</td>\n",
       "      <td>47000</td>\n",
       "    </tr>\n",
       "    <tr>\n",
       "      <th>4</th>\n",
       "      <td>IT</td>\n",
       "      <td>Eva</td>\n",
       "      <td>70000</td>\n",
       "    </tr>\n",
       "    <tr>\n",
       "      <th>5</th>\n",
       "      <td>IT</td>\n",
       "      <td>Frank</td>\n",
       "      <td>72000</td>\n",
       "    </tr>\n",
       "  </tbody>\n",
       "</table>\n",
       "</div>"
      ],
      "text/plain": [
       "  Department Employee  Salary\n",
       "0      Sales    Alice   50000\n",
       "1      Sales      Bob   60000\n",
       "2         HR  Charlie   45000\n",
       "3         HR    David   47000\n",
       "4         IT      Eva   70000\n",
       "5         IT    Frank   72000"
      ]
     },
     "execution_count": 3,
     "metadata": {},
     "output_type": "execute_result"
    }
   ],
   "source": [
    "df"
   ]
  },
  {
   "cell_type": "code",
   "execution_count": 4,
   "id": "a8a40324-8cb2-4dba-8887-970d77852080",
   "metadata": {},
   "outputs": [
    {
     "name": "stdout",
     "output_type": "stream",
     "text": [
      "Department  Gender\n",
      "HR          M         46000.0\n",
      "IT          F         70000.0\n",
      "            M         72000.0\n",
      "Sales       F         50000.0\n",
      "            M         60000.0\n",
      "Name: Salary, dtype: float64\n"
     ]
    }
   ],
   "source": [
    "#GroupBy Multiple Columns\n",
    "data = {\n",
    "    'Department': ['Sales', 'Sales', 'HR', 'HR', 'IT', 'IT'],\n",
    "    'Gender': ['F', 'M', 'M', 'M', 'F', 'M'],\n",
    "    'Salary': [50000, 60000, 45000, 47000, 70000, 72000]\n",
    "}\n",
    "df = pd.DataFrame(data)\n",
    "\n",
    "# Group by Department and Gender\n",
    "print(df.groupby(['Department', 'Gender'])['Salary'].mean())\n"
   ]
  },
  {
   "cell_type": "code",
   "execution_count": 5,
   "id": "d26c196d-1e98-4ce7-89d7-485d47949f2d",
   "metadata": {},
   "outputs": [
    {
     "name": "stdout",
     "output_type": "stream",
     "text": [
      "               mean    max    min\n",
      "Department                       \n",
      "HR          46000.0  47000  45000\n",
      "IT          71000.0  72000  70000\n",
      "Sales       55000.0  60000  50000\n"
     ]
    }
   ],
   "source": [
    "#Using agg() with Multiple Aggregations\n",
    "# Apply multiple functions\n",
    "print(df.groupby('Department')['Salary'].agg(['mean', 'max', 'min']))\n"
   ]
  },
  {
   "cell_type": "code",
   "execution_count": 7,
   "id": "1a1079f5-09f8-477e-9320-4eeebb528c66",
   "metadata": {},
   "outputs": [
    {
     "name": "stdout",
     "output_type": "stream",
     "text": [
      "Department\n",
      "HR       2\n",
      "IT       2\n",
      "Sales    2\n",
      "Name: Employee, dtype: int64\n"
     ]
    }
   ],
   "source": [
    "#GroupBy and count()\n",
    "# Count number of employees per department\n",
    "import pandas as pd\n",
    "\n",
    "data = {\n",
    "    'Department': ['Sales', 'Sales', 'HR', 'HR', 'IT', 'IT'],\n",
    "    'Employee': ['Alice', 'Bob', 'Charlie', 'David', 'Eva', 'Frank'],\n",
    "    'Salary': [50000, 60000, 45000, 47000, 70000, 72000]\n",
    "}\n",
    "\n",
    "df = pd.DataFrame(data)\n",
    "\n",
    "# Count number of employees per department\n",
    "print(df.groupby('Department')['Employee'].count())\n",
    "\n"
   ]
  },
  {
   "cell_type": "code",
   "execution_count": 9,
   "id": "0c88e2a0-48e4-4359-a8e6-c09e28b75084",
   "metadata": {},
   "outputs": [
    {
     "name": "stdout",
     "output_type": "stream",
     "text": [
      "Department\n",
      "HR        2000\n",
      "IT        2000\n",
      "Sales    10000\n",
      "Name: Salary, dtype: int64\n"
     ]
    }
   ],
   "source": [
    "#GroupBy and Custom Function\n",
    "def range_func(x):\n",
    "    return x.max() - x.min()\n",
    "\n",
    "# Apply custom function\n",
    "print(df.groupby('Department')['Salary'].agg(range_func))\n"
   ]
  },
  {
   "cell_type": "code",
   "execution_count": 10,
   "id": "375dd36a-0725-449e-99cc-a062648dcef0",
   "metadata": {},
   "outputs": [
    {
     "name": "stdout",
     "output_type": "stream",
     "text": [
      "  Department Employee  Salary\n",
      "4         IT      Eva   70000\n",
      "5         IT    Frank   72000\n"
     ]
    }
   ],
   "source": [
    "#GroupBy and Filtering\n",
    "high_salary = df.groupby('Department').filter(lambda x: x['Salary'].mean() > 55000)\n",
    "print(high_salary)"
   ]
  },
  {
   "cell_type": "code",
   "execution_count": 11,
   "id": "1d5fd6d7-0839-4e7a-9ff3-b30ab445e82e",
   "metadata": {},
   "outputs": [
    {
     "name": "stdout",
     "output_type": "stream",
     "text": [
      "  Department Employee  Salary  Salary_Diff\n",
      "0      Sales    Alice   50000      -5000.0\n",
      "1      Sales      Bob   60000       5000.0\n",
      "2         HR  Charlie   45000      -1000.0\n",
      "3         HR    David   47000       1000.0\n",
      "4         IT      Eva   70000      -1000.0\n",
      "5         IT    Frank   72000       1000.0\n"
     ]
    }
   ],
   "source": [
    "#GroupBy and Transform\n",
    "df['Salary_Diff'] = df.groupby('Department')['Salary'].transform(lambda x: x - x.mean())\n",
    "print(df)"
   ]
  },
  {
   "cell_type": "code",
   "execution_count": 12,
   "id": "5a8be1cf-0f66-4179-81ff-47a8fb7cfa7c",
   "metadata": {},
   "outputs": [
    {
     "name": "stdout",
     "output_type": "stream",
     "text": [
      "  Department   Salary\n",
      "0         HR  46000.0\n",
      "1         IT  71000.0\n",
      "2      Sales  55000.0\n"
     ]
    }
   ],
   "source": [
    "#GroupBy with as_index=False\n",
    "# Keep 'Department' as a column (not index)\n",
    "grouped_df = df.groupby('Department', as_index=False)['Salary'].mean()\n",
    "print(grouped_df)\n"
   ]
  },
  {
   "cell_type": "code",
   "execution_count": 13,
   "id": "b0c987de-72f4-4ccf-afbb-45cad9b81a7e",
   "metadata": {},
   "outputs": [
    {
     "name": "stdout",
     "output_type": "stream",
     "text": [
      "Department\n",
      "IT       71000.0\n",
      "Sales    55000.0\n",
      "HR       46000.0\n",
      "Name: Salary, dtype: float64\n"
     ]
    }
   ],
   "source": [
    "#GroupBy and Sorting Results\n",
    "# Group and sort by mean salary\n",
    "sorted_group = df.groupby('Department')['Salary'].mean().sort_values(ascending=False)\n",
    "print(sorted_group)\n"
   ]
  },
  {
   "cell_type": "code",
   "execution_count": null,
   "id": "4a2277b3-729e-4075-bb72-c7b787dce7e8",
   "metadata": {},
   "outputs": [],
   "source": []
  }
 ],
 "metadata": {
  "kernelspec": {
   "display_name": "Python 3 (ipykernel)",
   "language": "python",
   "name": "python3"
  },
  "language_info": {
   "codemirror_mode": {
    "name": "ipython",
    "version": 3
   },
   "file_extension": ".py",
   "mimetype": "text/x-python",
   "name": "python",
   "nbconvert_exporter": "python",
   "pygments_lexer": "ipython3",
   "version": "3.8.19"
  }
 },
 "nbformat": 4,
 "nbformat_minor": 5
}
