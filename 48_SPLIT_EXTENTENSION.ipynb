{
 "cells": [
  {
   "cell_type": "markdown",
   "id": "aab06b89-36d9-466b-bde3-66565bbf171e",
   "metadata": {},
   "source": [
    "In Pandas, the .str.split() function is used to split string values in a Series or column, often to separate parts of a string into new columns."
   ]
  },
  {
   "cell_type": "code",
   "execution_count": 1,
   "id": "59374724-2e41-439a-9a31-cf2ec8f60d1d",
   "metadata": {},
   "outputs": [
    {
     "name": "stdout",
     "output_type": "stream",
     "text": [
      "           Name  First    Last\n",
      "0    John_Smith   John   Smith\n",
      "1      Jane_Doe   Jane     Doe\n",
      "2  Alice_Walker  Alice  Walker\n"
     ]
    }
   ],
   "source": [
    "import pandas as pd\n",
    "\n",
    "df = pd.DataFrame({\n",
    "    'Name': ['John_Smith', 'Jane_Doe', 'Alice_Walker']\n",
    "})\n",
    "\n",
    "# Split into two columns\n",
    "df[['First', 'Last']] = df['Name'].str.split('_', expand=True)\n",
    "\n",
    "print(df)\n"
   ]
  },
  {
   "cell_type": "code",
   "execution_count": null,
   "id": "7bf37b47-ca13-465e-bee8-ff3693c226e4",
   "metadata": {},
   "outputs": [],
   "source": []
  }
 ],
 "metadata": {
  "kernelspec": {
   "display_name": "Python 3 (ipykernel)",
   "language": "python",
   "name": "python3"
  },
  "language_info": {
   "codemirror_mode": {
    "name": "ipython",
    "version": 3
   },
   "file_extension": ".py",
   "mimetype": "text/x-python",
   "name": "python",
   "nbconvert_exporter": "python",
   "pygments_lexer": "ipython3",
   "version": "3.8.19"
  }
 },
 "nbformat": 4,
 "nbformat_minor": 5
}
