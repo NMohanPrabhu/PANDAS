{
 "cells": [
  {
   "cell_type": "markdown",
   "id": "382ffb08",
   "metadata": {},
   "source": [
    "<p><font size =\"12\" color=\"blue\">Pandas Data Frame </font></P>\n",
    "<P>Pandas DataFrame is a 2-dimensional labeled data structure like any table with rows and columns. The size and values of the dataframe are mutable,i.e., can be modified</p>\n",
    "<font color =\"Red\"><p><b>  Multiple ways to create a Data Frame in Pandas</b> </p></font>\n",
    "\n",
    "<ol>\n",
    "    <li>\tCreate an empty Pandas DataFrame </li>\n",
    "    <li>\tCreate Pandas DataFrame from list of lists</li>\n",
    "    <li>Create Pandas DataFrame from dictionary of numpy array/list</li>\n",
    "    <li>Create Pandas DataFrame from list of dictionaries</li>\n",
    "    <li>Create Pandas Dataframe from dictionary of Pandas Series</li>\n",
    "    <li>Creating DataFrame using zip() function</li>\n",
    "    </ol>\n"
   ]
  },
  {
   "cell_type": "markdown",
   "id": "b77b9ec6",
   "metadata": {},
   "source": [
    "Objective:To create a data frame that incorporates the below data."
   ]
  },
  {
   "attachments": {
    "Table.png": {
     "image/png": "[encoded data removed]"
    }
   },
   "cell_type": "markdown",
   "id": "3be6dba8",
   "metadata": {},
   "source": [
    "![Table.png](attachment:Table.png)"
   ]
  },
  {
   "cell_type": "markdown",
   "id": "3b2aa33a",
   "metadata": {},
   "source": [
    "<b>1.Create an empty Pandas DataFrame</b>"
   ]
  },
  {
   "cell_type": "code",
   "execution_count": 1,
   "id": "f38460a7",
   "metadata": {},
   "outputs": [
    {
     "name": "stdout",
     "output_type": "stream",
     "text": [
      "Empty DataFrame\n",
      "Columns: []\n",
      "Index: []\n"
     ]
    }
   ],
   "source": [
    "# Importing Pandas to create DataFrame\n",
    "import pandas as pd\n",
    "# Creating Empty DataFrame and Storing it in variable df\n",
    "df = pd.DataFrame()\n",
    "# Printing Empty DataFrame\n",
    "print(df)"
   ]
  },
  {
   "cell_type": "markdown",
   "id": "68bade64",
   "metadata": {},
   "source": [
    "<p> <b>2. Creating Pandas DataFrame from lists of lists</b></P>\n",
    "<p>To create a Pandas DataFrame from a list of lists, you can use the pd.DataFrame() function.</p>\n",
    "<p>This function takes a list of lists as input and creates a DataFrame with the same number of rows and columns as the input list.</p>\n"
   ]
  },
  {
   "cell_type": "code",
   "execution_count": 2,
   "id": "b606e655",
   "metadata": {},
   "outputs": [],
   "source": [
    "data = [['Dhoni',200,110,74,5,55.00],\n",
    "        ['Azhar',174,90,76,2,51.72], \n",
    "        ['Ganguly', 146,76,65,0,52.05], \n",
    "        ['Kohli',95,65,27,1,68.42],\n",
    "        ['Dravid',79,42,33,0,53.16],\n",
    "        ['Kapil', 74,39,33,0,52.70]]\n"
   ]
  },
  {
   "cell_type": "code",
   "execution_count": 3,
   "id": "dd551922",
   "metadata": {},
   "outputs": [],
   "source": [
    "# Create the pandas DataFrame\n",
    "captaincy = pd.DataFrame(data, columns=['Name', 'Mat', 'Won', 'Lost', 'Tied', 'WR'])\n"
   ]
  },
  {
   "cell_type": "code",
   "execution_count": 4,
   "id": "ef53beba",
   "metadata": {},
   "outputs": [
    {
     "name": "stdout",
     "output_type": "stream",
     "text": [
      "      Name  Mat  Won  Lost  Tied     WR\n",
      "0    Dhoni  200  110    74     5  55.00\n",
      "1    Azhar  174   90    76     2  51.72\n",
      "2  Ganguly  146   76    65     0  52.05\n",
      "3    Kohli   95   65    27     1  68.42\n",
      "4   Dravid   79   42    33     0  53.16\n",
      "5    Kapil   74   39    33     0  52.70\n"
     ]
    }
   ],
   "source": [
    "# printdataframe.\n",
    "print(captaincy)"
   ]
  },
  {
   "cell_type": "markdown",
   "id": "bc1cd5a3",
   "metadata": {},
   "source": [
    "<b>3.Create Pandas DataFrame from Dictionary of numpy array/List</b>\n",
    "<p>To create DataFrame from dict of narray/list, all the narray must be of same length.</p>\n",
    "<p>If index is passed then the length index should be equal to the length of arrays.</p>\n",
    "<p>If no index is passed, then by default, index will be range(n) where n is the array length.</P>\n",
    "<b>Dictionary</b>\n",
    "\n",
    "<p>Dictionaries are used to store data values in key:value pairs.</p>\n",
    "\n",
    "<p>A dictionary is a collection which is ordered*, changeable and do not allow duplicates.</p>\n"
   ]
  },
  {
   "cell_type": "code",
   "execution_count": 5,
   "id": "f64f7515",
   "metadata": {},
   "outputs": [],
   "source": [
    "data = {'player': ['Dhoni', 'Azhar', 'Ganguly', 'Kohli','Dravid','Kapil'],\n",
    "\t'Mat':[200,174,146,95,79,74],\n",
    "\t'Won':[110,90,76,65,42,39],\n",
    "\t'Lost':[74,76,65,27,33,33],\n",
    "\t'Tied':[5,2,0,1,0,0],\n",
    "\t'WR':[55.00,51.72,52.05,68.42,53.16,52.70]}\n"
   ]
  },
  {
   "cell_type": "code",
   "execution_count": 6,
   "id": "bfca178c",
   "metadata": {},
   "outputs": [],
   "source": [
    " # Create DataFrame\n",
    "captaincy = pd.DataFrame(data)\n",
    "\n"
   ]
  },
  {
   "cell_type": "code",
   "execution_count": 7,
   "id": "7516fe4a",
   "metadata": {},
   "outputs": [
    {
     "name": "stdout",
     "output_type": "stream",
     "text": [
      "    player  Mat  Won  Lost  Tied     WR\n",
      "0    Dhoni  200  110    74     5  55.00\n",
      "1    Azhar  174   90    76     2  51.72\n",
      "2  Ganguly  146   76    65     0  52.05\n",
      "3    Kohli   95   65    27     1  68.42\n",
      "4   Dravid   79   42    33     0  53.16\n",
      "5    Kapil   74   39    33     0  52.70\n"
     ]
    }
   ],
   "source": [
    "# Print the output.\n",
    "print(captaincy)\n"
   ]
  },
  {
   "cell_type": "markdown",
   "id": "95827840",
   "metadata": {},
   "source": [
    "<b>Note:</b>\n",
    "<p>While creating dataframe using dictionary, the keys of dictionary will be column name by default.</p>\n",
    "<p>We can also provide column name explicitly using column parameter.</p>"
   ]
  },
  {
   "cell_type": "markdown",
   "id": "1eb82166",
   "metadata": {},
   "source": [
    "<b>4.Create pandas DataFrame from List of Dictionaries</b>\n",
    "<p>Pandas DataFrame can be created by passing lists of dictionaries as a input data.</p>\n",
    "<p>By default dictionary keys will be taken as columns.</P>"
   ]
  },
  {
   "cell_type": "code",
   "execution_count": 8,
   "id": "c143139b",
   "metadata": {},
   "outputs": [],
   "source": [
    "data = [{'Player': 'Dhoni', 'Mat': 200, 'Won': 110,'Lost': 74,'Tied': 5,'WR': 55.00},\n",
    "\t{'Player': 'Azhar', 'Mat': 174, 'Won': 90,'Lost': 76,'Tied': 2,'WR': 51.72},\n",
    "\t{'Player': 'Ganguly', 'Mat': 146, 'Won': 76,'Lost': 65,'Tied': 0,'WR': 52.05},\n",
    "\t{'Player': 'Kohli', 'Mat': 95, 'Won': 65,'Lost': 27,'Tied': 1,'WR': 68.42},\n",
    "\t{'Player': 'Dravid', 'Mat': 79, 'Won': 42,'Lost': 33,'Tied': 0,'WR': 53.16},\n",
    "\t{'Player': 'Kapil', 'Mat': 74, 'Won': 39,'Lost': 33,'Tied': 0,'WR': 52.70}]\n"
   ]
  },
  {
   "cell_type": "code",
   "execution_count": 9,
   "id": "92b349a4",
   "metadata": {},
   "outputs": [],
   "source": [
    "# Creates DataFrame.\n",
    "captaincy = pd.DataFrame(data)"
   ]
  },
  {
   "cell_type": "code",
   "execution_count": 10,
   "id": "52a93c65",
   "metadata": {},
   "outputs": [
    {
     "name": "stdout",
     "output_type": "stream",
     "text": [
      "    Player  Mat  Won  Lost  Tied     WR\n",
      "0    Dhoni  200  110    74     5  55.00\n",
      "1    Azhar  174   90    76     2  51.72\n",
      "2  Ganguly  146   76    65     0  52.05\n",
      "3    Kohli   95   65    27     1  68.42\n",
      "4   Dravid   79   42    33     0  53.16\n",
      "5    Kapil   74   39    33     0  52.70\n"
     ]
    }
   ],
   "source": [
    "# Print the data\n",
    "print(captaincy)"
   ]
  },
  {
   "cell_type": "markdown",
   "id": "6a84b19e",
   "metadata": {},
   "source": [
    "<b>5.Create pandas Dataframe from dictionary of Pandas Series</B>\n",
    "\n",
    "<p>To create DataFrame from Dict of series, dictionary can be passed to form a DataFrame.</p>\n",
    "<p>The resultant index is the union of all the series of passed indexed.</P>"
   ]
  },
  {
   "cell_type": "code",
   "execution_count": 11,
   "id": "ed95136b",
   "metadata": {},
   "outputs": [],
   "source": [
    "d = {\n",
    "'Player': pd.Series(['Dhoni', 'Azhar', 'Ganguly', 'Kohli','Dravid','Kapil'],index=['0', '1', '2', '3','4','5']),\n",
    "'Mat': pd.Series([200,174,146,95,79,74],index=['0', '1', '2', '3','4','5']),\n",
    "'Won': pd.Series([110,90,76,65,42,39],index=['0', '1', '2', '3','4','5']),\n",
    "'Lost': pd.Series([74,76,65,27,33,33],index=['0', '1', '2', '3','4','5']),\n",
    "'Tied': pd.Series([5,2,0,1,0,0],index=['0', '1', '2', '3','4','5']),\n",
    "'WR': pd.Series([55.00,51.72,52.05,68.42,53.16,52.70],index=['0', '1', '2', '3','4','5'])\n",
    "}\n"
   ]
  },
  {
   "cell_type": "code",
   "execution_count": 12,
   "id": "7cd2e4af",
   "metadata": {},
   "outputs": [],
   "source": [
    "# creates Dataframe.\n",
    "captaincy = pd.DataFrame(d)\n"
   ]
  },
  {
   "cell_type": "code",
   "execution_count": 13,
   "id": "d82234ea",
   "metadata": {},
   "outputs": [
    {
     "name": "stdout",
     "output_type": "stream",
     "text": [
      "    Player  Mat  Won  Lost  Tied     WR\n",
      "0    Dhoni  200  110    74     5  55.00\n",
      "1    Azhar  174   90    76     2  51.72\n",
      "2  Ganguly  146   76    65     0  52.05\n",
      "3    Kohli   95   65    27     1  68.42\n",
      "4   Dravid   79   42    33     0  53.16\n",
      "5    Kapil   74   39    33     0  52.70\n"
     ]
    }
   ],
   "source": [
    "# print the data.\n",
    "print(captaincy)\n"
   ]
  },
  {
   "cell_type": "markdown",
   "id": "2a6102ed",
   "metadata": {},
   "source": [
    "<b>6.CreatingDataFrame using zip() function<b>\n",
    "\n",
    "<p>Two lists can be merged by using list(zip()) function.</p>\n",
    "<p>Now, create the pandas DataFrame by calling pd.DataFrame() function.</p>\n"
   ]
  },
  {
   "cell_type": "code",
   "execution_count": 14,
   "id": "1f5e2bf8",
   "metadata": {},
   "outputs": [],
   "source": [
    "# List1\n",
    "Player = ['Dhoni', 'Azhar', 'Ganguly', 'Kohli','Dravid','Kapil']\n"
   ]
  },
  {
   "cell_type": "code",
   "execution_count": 15,
   "id": "84edfe57",
   "metadata": {},
   "outputs": [],
   "source": [
    "# List2\n",
    "Mat = [200,174,146,95,79,74]"
   ]
  },
  {
   "cell_type": "code",
   "execution_count": 16,
   "id": "e1fbb80e",
   "metadata": {},
   "outputs": [],
   "source": [
    "#List3\n",
    "Won=[110,90,76,65,42,39]\n"
   ]
  },
  {
   "cell_type": "code",
   "execution_count": 17,
   "id": "517f1df8",
   "metadata": {},
   "outputs": [],
   "source": [
    "#list4\n",
    "Lost=[74,76,65,27,33,33]\n"
   ]
  },
  {
   "cell_type": "code",
   "execution_count": 18,
   "id": "eb0fd364",
   "metadata": {},
   "outputs": [],
   "source": [
    "#List5\n",
    "Tied=[5,2,0,1,0,0]\n"
   ]
  },
  {
   "cell_type": "code",
   "execution_count": 19,
   "id": "918a33cb",
   "metadata": {},
   "outputs": [],
   "source": [
    "#list6\n",
    "WR=[55.00,51.72,52.05,68.42,53.16,52.70]\n"
   ]
  },
  {
   "cell_type": "code",
   "execution_count": 20,
   "id": "2430760d",
   "metadata": {},
   "outputs": [],
   "source": [
    "# get the list of tuples from two lists.\n",
    "# and merge them by using zip().\n",
    "list_of_tuples = list(zip(Player,Mat,Won,Lost,Tied,WR))\n"
   ]
  },
  {
   "cell_type": "code",
   "execution_count": 21,
   "id": "3eedc094",
   "metadata": {},
   "outputs": [
    {
     "data": {
      "text/plain": [
       "[('Dhoni', 200, 110, 74, 5, 55.0),\n",
       " ('Azhar', 174, 90, 76, 2, 51.72),\n",
       " ('Ganguly', 146, 76, 65, 0, 52.05),\n",
       " ('Kohli', 95, 65, 27, 1, 68.42),\n",
       " ('Dravid', 79, 42, 33, 0, 53.16),\n",
       " ('Kapil', 74, 39, 33, 0, 52.7)]"
      ]
     },
     "execution_count": 21,
     "metadata": {},
     "output_type": "execute_result"
    }
   ],
   "source": [
    "# Assign data to tuples.\n",
    "list_of_tuples"
   ]
  },
  {
   "cell_type": "code",
   "execution_count": 22,
   "id": "655ade4e",
   "metadata": {},
   "outputs": [],
   "source": [
    "\n",
    "# Converting lists of tuples into \n",
    "# pandasDataframe.\n",
    "captaincy = pd.DataFrame(list_of_tuples, columns=['Player','Mat','Won','Lost','Tied','WR'])\n"
   ]
  },
  {
   "cell_type": "code",
   "execution_count": 23,
   "id": "ca21a1c3",
   "metadata": {},
   "outputs": [
    {
     "name": "stdout",
     "output_type": "stream",
     "text": [
      "    Player  Mat  Won  Lost  Tied     WR\n",
      "0    Dhoni  200  110    74     5  55.00\n",
      "1    Azhar  174   90    76     2  51.72\n",
      "2  Ganguly  146   76    65     0  52.05\n",
      "3    Kohli   95   65    27     1  68.42\n",
      "4   Dravid   79   42    33     0  53.16\n",
      "5    Kapil   74   39    33     0  52.70\n"
     ]
    }
   ],
   "source": [
    "# Print data.\n",
    "print(captaincy)\n"
   ]
  },
  {
   "cell_type": "code",
   "execution_count": null,
   "id": "bbf473d5",
   "metadata": {},
   "outputs": [],
   "source": []
  }
 ],
 "metadata": {
  "kernelspec": {
   "display_name": "Python 3 (ipykernel)",
   "language": "python",
   "name": "python3"
  },
  "language_info": {
   "codemirror_mode": {
    "name": "ipython",
    "version": 3
   },
   "file_extension": ".py",
   "mimetype": "text/x-python",
   "name": "python",
   "nbconvert_exporter": "python",
   "pygments_lexer": "ipython3",
   "version": "3.12.7"
  }
 },
 "nbformat": 4,
 "nbformat_minor": 5
}
