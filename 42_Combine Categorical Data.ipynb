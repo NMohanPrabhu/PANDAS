{
 "cells": [
  {
   "cell_type": "markdown",
   "id": "3dcca60d-5322-44ff-8b63-67d87f0832d9",
   "metadata": {},
   "source": [
    "<font color=\"blue\" size=\"6\">Combine Categorical Data</font>"
   ]
  },
  {
   "cell_type": "markdown",
   "id": "6dd7b3f8-7e07-4408-bef9-7c5ce1f6e560",
   "metadata": {},
   "source": [
    "In this example orders are placed from many cities here we combine less frequently ordered cities as others."
   ]
  },
  {
   "cell_type": "code",
   "execution_count": 1,
   "id": "48746805-ecf1-4f10-afd8-f6d15e925d64",
   "metadata": {},
   "outputs": [
    {
     "data": {
      "text/html": [
       "<div>\n",
       "<style scoped>\n",
       "    .dataframe tbody tr th:only-of-type {\n",
       "        vertical-align: middle;\n",
       "    }\n",
       "\n",
       "    .dataframe tbody tr th {\n",
       "        vertical-align: top;\n",
       "    }\n",
       "\n",
       "    .dataframe thead th {\n",
       "        text-align: right;\n",
       "    }\n",
       "</style>\n",
       "<table border=\"1\" class=\"dataframe\">\n",
       "  <thead>\n",
       "    <tr style=\"text-align: right;\">\n",
       "      <th></th>\n",
       "      <th>Oderno</th>\n",
       "      <th>Status</th>\n",
       "      <th>Book</th>\n",
       "      <th>City</th>\n",
       "    </tr>\n",
       "  </thead>\n",
       "  <tbody>\n",
       "    <tr>\n",
       "      <th>0</th>\n",
       "      <td>1</td>\n",
       "      <td>Completed</td>\n",
       "      <td>A</td>\n",
       "      <td>Chennai</td>\n",
       "    </tr>\n",
       "    <tr>\n",
       "      <th>1</th>\n",
       "      <td>2</td>\n",
       "      <td>Completed</td>\n",
       "      <td>B</td>\n",
       "      <td>Chennai</td>\n",
       "    </tr>\n",
       "    <tr>\n",
       "      <th>2</th>\n",
       "      <td>3</td>\n",
       "      <td>Completed</td>\n",
       "      <td>C</td>\n",
       "      <td>Chennai</td>\n",
       "    </tr>\n",
       "    <tr>\n",
       "      <th>3</th>\n",
       "      <td>4</td>\n",
       "      <td>Completed</td>\n",
       "      <td>D</td>\n",
       "      <td>Chennai</td>\n",
       "    </tr>\n",
       "    <tr>\n",
       "      <th>4</th>\n",
       "      <td>5</td>\n",
       "      <td>Completed</td>\n",
       "      <td>E</td>\n",
       "      <td>Chennai</td>\n",
       "    </tr>\n",
       "    <tr>\n",
       "      <th>...</th>\n",
       "      <td>...</td>\n",
       "      <td>...</td>\n",
       "      <td>...</td>\n",
       "      <td>...</td>\n",
       "    </tr>\n",
       "    <tr>\n",
       "      <th>808</th>\n",
       "      <td>809</td>\n",
       "      <td>Completed</td>\n",
       "      <td>F_804</td>\n",
       "      <td>Bombay</td>\n",
       "    </tr>\n",
       "    <tr>\n",
       "      <th>809</th>\n",
       "      <td>810</td>\n",
       "      <td>Completed</td>\n",
       "      <td>F_805</td>\n",
       "      <td>Bombay</td>\n",
       "    </tr>\n",
       "    <tr>\n",
       "      <th>810</th>\n",
       "      <td>811</td>\n",
       "      <td>Completed</td>\n",
       "      <td>F_806</td>\n",
       "      <td>Bombay</td>\n",
       "    </tr>\n",
       "    <tr>\n",
       "      <th>811</th>\n",
       "      <td>812</td>\n",
       "      <td>Completed</td>\n",
       "      <td>F_807</td>\n",
       "      <td>Calcutta</td>\n",
       "    </tr>\n",
       "    <tr>\n",
       "      <th>812</th>\n",
       "      <td>813</td>\n",
       "      <td>Completed</td>\n",
       "      <td>F_808</td>\n",
       "      <td>Calcutta</td>\n",
       "    </tr>\n",
       "  </tbody>\n",
       "</table>\n",
       "<p>813 rows × 4 columns</p>\n",
       "</div>"
      ],
      "text/plain": [
       "     Oderno     Status   Book      City\n",
       "0         1  Completed      A   Chennai\n",
       "1         2  Completed      B   Chennai\n",
       "2         3  Completed      C   Chennai\n",
       "3         4  Completed      D   Chennai\n",
       "4         5  Completed      E   Chennai\n",
       "..      ...        ...    ...       ...\n",
       "808     809  Completed  F_804    Bombay\n",
       "809     810  Completed  F_805    Bombay\n",
       "810     811  Completed  F_806    Bombay\n",
       "811     812  Completed  F_807  Calcutta\n",
       "812     813  Completed  F_808  Calcutta\n",
       "\n",
       "[813 rows x 4 columns]"
      ]
     },
     "execution_count": 1,
     "metadata": {},
     "output_type": "execute_result"
    }
   ],
   "source": [
    "import numpy as np\n",
    "import pandas as pd  \n",
    "# making data frame from csv file  \n",
    "data = pd.read_csv(\"DATASETS\\\\order.csv\")\n",
    "df = pd.DataFrame(data)\n",
    "\n",
    "df\n"
   ]
  },
  {
   "cell_type": "code",
   "execution_count": 2,
   "id": "585b233f-124e-4c44-a143-fbd058d8e945",
   "metadata": {},
   "outputs": [
    {
     "data": {
      "text/plain": [
       "Bangalore     273\n",
       "Coimbatore    175\n",
       "Madurai       161\n",
       "Chennai        47\n",
       "Trichy         36\n",
       "Ooty           23\n",
       "Mysore         16\n",
       "Hyderabad      14\n",
       "Cochin         12\n",
       "Jaffna          8\n",
       "Cuttak          8\n",
       "Hoogly          7\n",
       "Srinagar        6\n",
       "Patna           6\n",
       "Goa             5\n",
       "Ranchi          4\n",
       "Indore          4\n",
       "Delhi           3\n",
       "Bombay          3\n",
       "Calcutta        2\n",
       "Name: City, dtype: int64"
      ]
     },
     "execution_count": 2,
     "metadata": {},
     "output_type": "execute_result"
    }
   ],
   "source": [
    "count=df['City'].value_counts()\n",
    "count\n",
    "\n"
   ]
  },
  {
   "cell_type": "code",
   "execution_count": 3,
   "id": "55c1cab6-1dea-4ae1-9b83-b52ef366548b",
   "metadata": {},
   "outputs": [
    {
     "data": {
      "text/html": [
       "<div>\n",
       "<style scoped>\n",
       "    .dataframe tbody tr th:only-of-type {\n",
       "        vertical-align: middle;\n",
       "    }\n",
       "\n",
       "    .dataframe tbody tr th {\n",
       "        vertical-align: top;\n",
       "    }\n",
       "\n",
       "    .dataframe thead th {\n",
       "        text-align: right;\n",
       "    }\n",
       "</style>\n",
       "<table border=\"1\" class=\"dataframe\">\n",
       "  <thead>\n",
       "    <tr style=\"text-align: right;\">\n",
       "      <th></th>\n",
       "      <th>Oderno</th>\n",
       "      <th>Status</th>\n",
       "      <th>Book</th>\n",
       "      <th>City</th>\n",
       "    </tr>\n",
       "  </thead>\n",
       "  <tbody>\n",
       "    <tr>\n",
       "      <th>0</th>\n",
       "      <td>1</td>\n",
       "      <td>Completed</td>\n",
       "      <td>A</td>\n",
       "      <td>chennai</td>\n",
       "    </tr>\n",
       "    <tr>\n",
       "      <th>1</th>\n",
       "      <td>2</td>\n",
       "      <td>Completed</td>\n",
       "      <td>B</td>\n",
       "      <td>chennai</td>\n",
       "    </tr>\n",
       "    <tr>\n",
       "      <th>2</th>\n",
       "      <td>3</td>\n",
       "      <td>Completed</td>\n",
       "      <td>C</td>\n",
       "      <td>chennai</td>\n",
       "    </tr>\n",
       "    <tr>\n",
       "      <th>3</th>\n",
       "      <td>4</td>\n",
       "      <td>Completed</td>\n",
       "      <td>D</td>\n",
       "      <td>chennai</td>\n",
       "    </tr>\n",
       "    <tr>\n",
       "      <th>4</th>\n",
       "      <td>5</td>\n",
       "      <td>Completed</td>\n",
       "      <td>E</td>\n",
       "      <td>chennai</td>\n",
       "    </tr>\n",
       "    <tr>\n",
       "      <th>...</th>\n",
       "      <td>...</td>\n",
       "      <td>...</td>\n",
       "      <td>...</td>\n",
       "      <td>...</td>\n",
       "    </tr>\n",
       "    <tr>\n",
       "      <th>808</th>\n",
       "      <td>809</td>\n",
       "      <td>Completed</td>\n",
       "      <td>F_804</td>\n",
       "      <td>bombay</td>\n",
       "    </tr>\n",
       "    <tr>\n",
       "      <th>809</th>\n",
       "      <td>810</td>\n",
       "      <td>Completed</td>\n",
       "      <td>F_805</td>\n",
       "      <td>bombay</td>\n",
       "    </tr>\n",
       "    <tr>\n",
       "      <th>810</th>\n",
       "      <td>811</td>\n",
       "      <td>Completed</td>\n",
       "      <td>F_806</td>\n",
       "      <td>bombay</td>\n",
       "    </tr>\n",
       "    <tr>\n",
       "      <th>811</th>\n",
       "      <td>812</td>\n",
       "      <td>Completed</td>\n",
       "      <td>F_807</td>\n",
       "      <td>calcutta</td>\n",
       "    </tr>\n",
       "    <tr>\n",
       "      <th>812</th>\n",
       "      <td>813</td>\n",
       "      <td>Completed</td>\n",
       "      <td>F_808</td>\n",
       "      <td>calcutta</td>\n",
       "    </tr>\n",
       "  </tbody>\n",
       "</table>\n",
       "<p>813 rows × 4 columns</p>\n",
       "</div>"
      ],
      "text/plain": [
       "     Oderno     Status   Book      City\n",
       "0         1  Completed      A   chennai\n",
       "1         2  Completed      B   chennai\n",
       "2         3  Completed      C   chennai\n",
       "3         4  Completed      D   chennai\n",
       "4         5  Completed      E   chennai\n",
       "..      ...        ...    ...       ...\n",
       "808     809  Completed  F_804    bombay\n",
       "809     810  Completed  F_805    bombay\n",
       "810     811  Completed  F_806    bombay\n",
       "811     812  Completed  F_807  calcutta\n",
       "812     813  Completed  F_808  calcutta\n",
       "\n",
       "[813 rows x 4 columns]"
      ]
     },
     "execution_count": 3,
     "metadata": {},
     "output_type": "execute_result"
    }
   ],
   "source": [
    "df['City']=df['City'].str.lower()\n",
    "df"
   ]
  },
  {
   "cell_type": "code",
   "execution_count": 4,
   "id": "91b3a3a7-67ea-4083-b101-fb193a8ddb34",
   "metadata": {},
   "outputs": [],
   "source": [
    "top9=df['City'].value_counts().nlargest(9).index\n"
   ]
  },
  {
   "cell_type": "code",
   "execution_count": 5,
   "id": "34fd1395-3433-4798-937c-fbe02d8d7b05",
   "metadata": {},
   "outputs": [
    {
     "data": {
      "text/plain": [
       "Index(['bangalore', 'coimbatore', 'madurai', 'chennai', 'trichy', 'ooty',\n",
       "       'mysore', 'hyderabad', 'cochin'],\n",
       "      dtype='object')"
      ]
     },
     "execution_count": 5,
     "metadata": {},
     "output_type": "execute_result"
    }
   ],
   "source": [
    "top9\n"
   ]
  },
  {
   "cell_type": "code",
   "execution_count": 6,
   "id": "e571d8c9-33bd-40cc-832d-cdfd17796c7f",
   "metadata": {},
   "outputs": [
    {
     "data": {
      "text/plain": [
       "0      chennai\n",
       "1      chennai\n",
       "2      chennai\n",
       "3      chennai\n",
       "4      chennai\n",
       "        ...   \n",
       "808      other\n",
       "809      other\n",
       "810      other\n",
       "811      other\n",
       "812      other\n",
       "Name: City, Length: 813, dtype: object"
      ]
     },
     "execution_count": 6,
     "metadata": {},
     "output_type": "execute_result"
    }
   ],
   "source": [
    "df['City'].where(df['City'].isin(top9),'other')\n"
   ]
  },
  {
   "cell_type": "code",
   "execution_count": 7,
   "id": "766873e8-edc4-4a86-90d0-107a8a98bfb1",
   "metadata": {},
   "outputs": [
    {
     "data": {
      "text/html": [
       "<div>\n",
       "<style scoped>\n",
       "    .dataframe tbody tr th:only-of-type {\n",
       "        vertical-align: middle;\n",
       "    }\n",
       "\n",
       "    .dataframe tbody tr th {\n",
       "        vertical-align: top;\n",
       "    }\n",
       "\n",
       "    .dataframe thead th {\n",
       "        text-align: right;\n",
       "    }\n",
       "</style>\n",
       "<table border=\"1\" class=\"dataframe\">\n",
       "  <thead>\n",
       "    <tr style=\"text-align: right;\">\n",
       "      <th></th>\n",
       "      <th>Oderno</th>\n",
       "      <th>Status</th>\n",
       "      <th>Book</th>\n",
       "      <th>City</th>\n",
       "      <th>City_Cat</th>\n",
       "    </tr>\n",
       "  </thead>\n",
       "  <tbody>\n",
       "    <tr>\n",
       "      <th>0</th>\n",
       "      <td>1</td>\n",
       "      <td>Completed</td>\n",
       "      <td>A</td>\n",
       "      <td>chennai</td>\n",
       "      <td>chennai</td>\n",
       "    </tr>\n",
       "    <tr>\n",
       "      <th>1</th>\n",
       "      <td>2</td>\n",
       "      <td>Completed</td>\n",
       "      <td>B</td>\n",
       "      <td>chennai</td>\n",
       "      <td>chennai</td>\n",
       "    </tr>\n",
       "    <tr>\n",
       "      <th>2</th>\n",
       "      <td>3</td>\n",
       "      <td>Completed</td>\n",
       "      <td>C</td>\n",
       "      <td>chennai</td>\n",
       "      <td>chennai</td>\n",
       "    </tr>\n",
       "    <tr>\n",
       "      <th>3</th>\n",
       "      <td>4</td>\n",
       "      <td>Completed</td>\n",
       "      <td>D</td>\n",
       "      <td>chennai</td>\n",
       "      <td>chennai</td>\n",
       "    </tr>\n",
       "    <tr>\n",
       "      <th>4</th>\n",
       "      <td>5</td>\n",
       "      <td>Completed</td>\n",
       "      <td>E</td>\n",
       "      <td>chennai</td>\n",
       "      <td>chennai</td>\n",
       "    </tr>\n",
       "  </tbody>\n",
       "</table>\n",
       "</div>"
      ],
      "text/plain": [
       "   Oderno     Status Book     City City_Cat\n",
       "0       1  Completed    A  chennai  chennai\n",
       "1       2  Completed    B  chennai  chennai\n",
       "2       3  Completed    C  chennai  chennai\n",
       "3       4  Completed    D  chennai  chennai\n",
       "4       5  Completed    E  chennai  chennai"
      ]
     },
     "execution_count": 7,
     "metadata": {},
     "output_type": "execute_result"
    }
   ],
   "source": [
    "df['City_Cat']=df['City'].where(df['City'].isin(top9),'other')\n",
    "df.head()\n"
   ]
  },
  {
   "cell_type": "code",
   "execution_count": 8,
   "id": "fa4100e5-817b-492c-b0e7-727d19cb6364",
   "metadata": {},
   "outputs": [
    {
     "data": {
      "text/plain": [
       "bangalore     273\n",
       "coimbatore    175\n",
       "madurai       161\n",
       "other          56\n",
       "chennai        47\n",
       "trichy         36\n",
       "ooty           23\n",
       "mysore         16\n",
       "hyderabad      14\n",
       "cochin         12\n",
       "Name: City_Cat, dtype: int64"
      ]
     },
     "execution_count": 8,
     "metadata": {},
     "output_type": "execute_result"
    }
   ],
   "source": [
    "df['City_Cat'].value_counts()"
   ]
  },
  {
   "cell_type": "code",
   "execution_count": null,
   "id": "10c05685-dbf1-4c4a-87f5-cdec8f8a0afc",
   "metadata": {},
   "outputs": [],
   "source": []
  },
  {
   "cell_type": "code",
   "execution_count": null,
   "id": "21a2cf4a-08f6-4427-9854-3caa71bce559",
   "metadata": {},
   "outputs": [],
   "source": []
  }
 ],
 "metadata": {
  "kernelspec": {
   "display_name": "Python 3 (ipykernel)",
   "language": "python",
   "name": "python3"
  },
  "language_info": {
   "codemirror_mode": {
    "name": "ipython",
    "version": 3
   },
   "file_extension": ".py",
   "mimetype": "text/x-python",
   "name": "python",
   "nbconvert_exporter": "python",
   "pygments_lexer": "ipython3",
   "version": "3.8.19"
  }
 },
 "nbformat": 4,
 "nbformat_minor": 5
}
